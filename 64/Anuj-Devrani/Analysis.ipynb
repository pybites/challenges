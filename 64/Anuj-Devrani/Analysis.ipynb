{
 "cells": [
  {
   "cell_type": "code",
   "execution_count": 29,
   "metadata": {},
   "outputs": [
    {
     "data": {
      "text/html": [
       "        <script type=\"text/javascript\">\n",
       "        window.PlotlyConfig = {MathJaxConfig: 'local'};\n",
       "        if (window.MathJax) {MathJax.Hub.Config({SVG: {font: \"STIX-Web\"}});}\n",
       "        if (typeof require !== 'undefined') {\n",
       "        require.undef(\"plotly\");\n",
       "        requirejs.config({\n",
       "            paths: {\n",
       "                'plotly': ['https://cdn.plot.ly/plotly-latest.min']\n",
       "            }\n",
       "        });\n",
       "        require(['plotly'], function(Plotly) {\n",
       "            window._Plotly = Plotly;\n",
       "        });\n",
       "        }\n",
       "        </script>\n",
       "        "
      ]
     },
     "metadata": {},
     "output_type": "display_data"
    },
    {
     "data": {
      "text/html": [
       "        <script type=\"text/javascript\">\n",
       "        window.PlotlyConfig = {MathJaxConfig: 'local'};\n",
       "        if (window.MathJax) {MathJax.Hub.Config({SVG: {font: \"STIX-Web\"}});}\n",
       "        if (typeof require !== 'undefined') {\n",
       "        require.undef(\"plotly\");\n",
       "        requirejs.config({\n",
       "            paths: {\n",
       "                'plotly': ['https://cdn.plot.ly/plotly-latest.min']\n",
       "            }\n",
       "        });\n",
       "        require(['plotly'], function(Plotly) {\n",
       "            window._Plotly = Plotly;\n",
       "        });\n",
       "        }\n",
       "        </script>\n",
       "        "
      ]
     },
     "metadata": {},
     "output_type": "display_data"
    }
   ],
   "source": [
    "import pandas as pd\n",
    "import json\n",
    "import plotly.plotly as py\n",
    "import plotly.offline as offline\n",
    "import plotly.graph_objs as go\n",
    "from plotly.offline import iplot, init_notebook_mode\n",
    "# Using plotly + cufflinks in offline mode\n",
    "import cufflinks\n",
    "cufflinks.go_offline(connected=True)\n",
    "offline.init_notebook_mode(connected=True)"
   ]
  },
  {
   "cell_type": "code",
   "execution_count": 4,
   "metadata": {},
   "outputs": [],
   "source": [
    "\n",
    "with open('characters.json', 'r') as f:\n",
    "    content = f.readlines()\n",
    "    processed_data = [inner_content for line in content for inner_content in json.loads(line)['results']]\n",
    "    "
   ]
  },
  {
   "cell_type": "code",
   "execution_count": 5,
   "metadata": {},
   "outputs": [],
   "source": [
    "characters_data = []\n",
    "for data in processed_data:\n",
    "    fil_data = {}\n",
    "    fil_data['name'] = data['name']\n",
    "    fil_data['no_of_comics'] = data['comics']['available']\n",
    "    fil_data['no_of_events'] = data['events']['available']\n",
    "    fil_data['no_of_stories'] = data['stories']['available']\n",
    "    fil_data['no_of_series'] = data['series']['available']\n",
    "    characters_data.append(fil_data)"
   ]
  },
  {
   "cell_type": "code",
   "execution_count": 6,
   "metadata": {},
   "outputs": [
    {
     "data": {
      "text/html": [
       "<div>\n",
       "<style scoped>\n",
       "    .dataframe tbody tr th:only-of-type {\n",
       "        vertical-align: middle;\n",
       "    }\n",
       "\n",
       "    .dataframe tbody tr th {\n",
       "        vertical-align: top;\n",
       "    }\n",
       "\n",
       "    .dataframe thead th {\n",
       "        text-align: right;\n",
       "    }\n",
       "</style>\n",
       "<table border=\"1\" class=\"dataframe\">\n",
       "  <thead>\n",
       "    <tr style=\"text-align: right;\">\n",
       "      <th></th>\n",
       "      <th>name</th>\n",
       "      <th>no_of_comics</th>\n",
       "      <th>no_of_events</th>\n",
       "      <th>no_of_stories</th>\n",
       "      <th>no_of_series</th>\n",
       "    </tr>\n",
       "  </thead>\n",
       "  <tbody>\n",
       "    <tr>\n",
       "      <td>0</td>\n",
       "      <td>3-D Man</td>\n",
       "      <td>12</td>\n",
       "      <td>1</td>\n",
       "      <td>21</td>\n",
       "      <td>3</td>\n",
       "    </tr>\n",
       "    <tr>\n",
       "      <td>1</td>\n",
       "      <td>A-Bomb (HAS)</td>\n",
       "      <td>3</td>\n",
       "      <td>0</td>\n",
       "      <td>7</td>\n",
       "      <td>2</td>\n",
       "    </tr>\n",
       "    <tr>\n",
       "      <td>2</td>\n",
       "      <td>A.I.M.</td>\n",
       "      <td>49</td>\n",
       "      <td>0</td>\n",
       "      <td>52</td>\n",
       "      <td>33</td>\n",
       "    </tr>\n",
       "    <tr>\n",
       "      <td>3</td>\n",
       "      <td>Aaron Stack</td>\n",
       "      <td>14</td>\n",
       "      <td>0</td>\n",
       "      <td>27</td>\n",
       "      <td>3</td>\n",
       "    </tr>\n",
       "    <tr>\n",
       "      <td>4</td>\n",
       "      <td>Abomination (Emil Blonsky)</td>\n",
       "      <td>53</td>\n",
       "      <td>1</td>\n",
       "      <td>63</td>\n",
       "      <td>26</td>\n",
       "    </tr>\n",
       "  </tbody>\n",
       "</table>\n",
       "</div>"
      ],
      "text/plain": [
       "                         name  no_of_comics  no_of_events  no_of_stories  \\\n",
       "0                     3-D Man            12             1             21   \n",
       "1                A-Bomb (HAS)             3             0              7   \n",
       "2                      A.I.M.            49             0             52   \n",
       "3                 Aaron Stack            14             0             27   \n",
       "4  Abomination (Emil Blonsky)            53             1             63   \n",
       "\n",
       "   no_of_series  \n",
       "0             3  \n",
       "1             2  \n",
       "2            33  \n",
       "3             3  \n",
       "4            26  "
      ]
     },
     "execution_count": 6,
     "metadata": {},
     "output_type": "execute_result"
    }
   ],
   "source": [
    "charc_df = pd.DataFrame(characters_data)\n",
    "charc_df.head()"
   ]
  },
  {
   "cell_type": "code",
   "execution_count": 10,
   "metadata": {},
   "outputs": [],
   "source": [
    "top_15_by_no_of_comics = charc_df.sort_values('no_of_comics', ascending=False).iloc[:15]\n",
    "\n",
    "    "
   ]
  },
  {
   "cell_type": "code",
   "execution_count": 13,
   "metadata": {},
   "outputs": [
    {
     "data": {
      "application/vnd.plotly.v1+json": {
       "config": {
        "linkText": "Export to plot.ly",
        "plotlyServerURL": "https://plot.ly",
        "showLink": false
       },
       "data": [
        {
         "name": "Top 15 by No of Comics",
         "orientation": "h",
         "text": [
          3852,
          3350,
          2598,
          2441,
          2339,
          1855,
          1736,
          1638,
          1373,
          1187,
          1155,
          967,
          913,
          834,
          822
         ],
         "textposition": "outside",
         "type": "bar",
         "uid": "e2e8c0ab-271b-4aed-bcb6-2c48ce0ecb2b",
         "x": [
          3852,
          3350,
          2598,
          2441,
          2339,
          1855,
          1736,
          1638,
          1373,
          1187,
          1155,
          967,
          913,
          834,
          822
         ],
         "y": [
          "Spider-Man",
          "X-Men",
          "Iron Man",
          "Wolverine",
          "Captain America",
          "Avengers",
          "Thor",
          "Hulk",
          "Fantastic Four",
          "Human Torch",
          "Daredevil",
          "Cyclops",
          "Thing",
          "Deadpool",
          "Storm"
         ]
        }
       ],
       "layout": {
        "bargroupgap": 0.1,
        "barmode": "group",
        "width": 900,
        "yaxis": {
         "automargin": true,
         "autorange": "reversed"
        }
       }
      },
      "text/html": [
       "<div>\n",
       "        \n",
       "        \n",
       "            <div id=\"5bb33640-f916-40c3-8d22-5b95c7209e91\" class=\"plotly-graph-div\" style=\"height:525px; width:900px;\"></div>\n",
       "            <script type=\"text/javascript\">\n",
       "                require([\"plotly\"], function(Plotly) {\n",
       "                    window.PLOTLYENV=window.PLOTLYENV || {};\n",
       "                    window.PLOTLYENV.BASE_URL='https://plot.ly';\n",
       "                    \n",
       "                if (document.getElementById(\"5bb33640-f916-40c3-8d22-5b95c7209e91\")) {\n",
       "                    Plotly.newPlot(\n",
       "                        '5bb33640-f916-40c3-8d22-5b95c7209e91',\n",
       "                        [{\"name\": \"Top 15 by No of Comics\", \"orientation\": \"h\", \"text\": [3852.0, 3350.0, 2598.0, 2441.0, 2339.0, 1855.0, 1736.0, 1638.0, 1373.0, 1187.0, 1155.0, 967.0, 913.0, 834.0, 822.0], \"textposition\": \"outside\", \"type\": \"bar\", \"uid\": \"e2e8c0ab-271b-4aed-bcb6-2c48ce0ecb2b\", \"x\": [3852, 3350, 2598, 2441, 2339, 1855, 1736, 1638, 1373, 1187, 1155, 967, 913, 834, 822], \"y\": [\"Spider-Man\", \"X-Men\", \"Iron Man\", \"Wolverine\", \"Captain America\", \"Avengers\", \"Thor\", \"Hulk\", \"Fantastic Four\", \"Human Torch\", \"Daredevil\", \"Cyclops\", \"Thing\", \"Deadpool\", \"Storm\"]}],\n",
       "                        {\"bargroupgap\": 0.1, \"barmode\": \"group\", \"width\": 900, \"yaxis\": {\"automargin\": true, \"autorange\": \"reversed\"}},\n",
       "                        {\"showLink\": false, \"linkText\": \"Export to plot.ly\", \"plotlyServerURL\": \"https://plot.ly\", \"responsive\": true}\n",
       "                    ).then(function(){\n",
       "                            \n",
       "var gd = document.getElementById('5bb33640-f916-40c3-8d22-5b95c7209e91');\n",
       "var x = new MutationObserver(function (mutations, observer) {{\n",
       "        var display = window.getComputedStyle(gd).display;\n",
       "        if (!display || display === 'none') {{\n",
       "            console.log([gd, 'removed!']);\n",
       "            Plotly.purge(gd);\n",
       "            observer.disconnect();\n",
       "        }}\n",
       "}});\n",
       "\n",
       "// Listen for the removal of the full notebook cells\n",
       "var notebookContainer = gd.closest('#notebook-container');\n",
       "if (notebookContainer) {{\n",
       "    x.observe(notebookContainer, {childList: true});\n",
       "}}\n",
       "\n",
       "// Listen for the clearing of the current output cell\n",
       "var outputEl = gd.closest('.output');\n",
       "if (outputEl) {{\n",
       "    x.observe(outputEl, {childList: true});\n",
       "}}\n",
       "\n",
       "                        })\n",
       "                };\n",
       "                });\n",
       "            </script>\n",
       "        </div>"
      ]
     },
     "metadata": {},
     "output_type": "display_data"
    }
   ],
   "source": [
    "buddies = go.Bar(\n",
    "    x = top_15_by_no_of_comics['no_of_comics'],\n",
    "    y = top_15_by_no_of_comics['name'],\n",
    "    name = 'Top 15 by No of Comics',\n",
    "    orientation='h',\n",
    "    text=top_15_by_no_of_comics['no_of_comics'],\n",
    "    textposition='outside'\n",
    ")\n",
    "\n",
    "data = [buddies]\n",
    "layout = go.Layout(\n",
    "    barmode = 'group',\n",
    "    bargroupgap=0.1,\n",
    "    width = 900,\n",
    "    yaxis=dict(autorange=\"reversed\")\n",
    ")\n",
    "\n",
    "fig = go.Figure(data = data, layout = layout)\n",
    "fig.update_yaxes(automargin=True)\n",
    "offline.iplot(fig)"
   ]
  },
  {
   "cell_type": "code",
   "execution_count": 30,
   "metadata": {},
   "outputs": [],
   "source": [
    "from datetime import datetime"
   ]
  },
  {
   "cell_type": "code",
   "execution_count": 31,
   "metadata": {},
   "outputs": [],
   "source": [
    "with open('events.json', 'r') as f:\n",
    "    content = f.readlines()\n",
    "    series_list = [inner_content for line in content for inner_content in json.loads(line)['results']]"
   ]
  },
  {
   "cell_type": "code",
   "execution_count": null,
   "metadata": {},
   "outputs": [],
   "source": []
  },
  {
   "cell_type": "code",
   "execution_count": 33,
   "metadata": {},
   "outputs": [],
   "source": [
    "events_filtered_data = []\n",
    "for indx,data in enumerate(series_list):\n",
    "    fil_data = {}\n",
    "    fil_data['id']=data['id']\n",
    "    fil_data['title'] = data['title']\n",
    "    fil_data['start_date'] = datetime.strptime(data['start'], '%Y-%m-%d %H:%M:%S') if data['start'] else None\n",
    "    fil_data['end_date'] = datetime.strptime(data['end'],'%Y-%m-%d %H:%M:%S') if data['end'] and datetime.strptime(data['end'],'%Y-%m-%d %H:%M:%S') < datetime.today() else datetime.today()\n",
    "    fil_data['stories'] = data['stories']['available']\n",
    "    fil_data['characters'] = data['characters']['available']\n",
    "    fil_data['index']=indx\n",
    "    events_filtered_data.append(fil_data)\n"
   ]
  },
  {
   "cell_type": "code",
   "execution_count": 34,
   "metadata": {},
   "outputs": [],
   "source": [
    "events_df = pd.DataFrame(events_filtered_data)"
   ]
  },
  {
   "cell_type": "code",
   "execution_count": 35,
   "metadata": {},
   "outputs": [],
   "source": [
    "\n",
    "events_df['duration'] = events_df['end_date'] - events_df['start_date']"
   ]
  },
  {
   "cell_type": "code",
   "execution_count": null,
   "metadata": {},
   "outputs": [],
   "source": []
  },
  {
   "cell_type": "code",
   "execution_count": 36,
   "metadata": {},
   "outputs": [],
   "source": [
    "top_10_events = events_df.sort_values('characters', ascending=False).iloc[:10]"
   ]
  },
  {
   "cell_type": "code",
   "execution_count": 38,
   "metadata": {},
   "outputs": [
    {
     "data": {
      "application/vnd.plotly.v1+json": {
       "config": {
        "linkText": "Export to plot.ly",
        "plotlyServerURL": "https://plot.ly",
        "showLink": false
       },
       "data": [
        {
         "name": "Top 10",
         "orientation": "h",
         "text": [
          151,
          144,
          103,
          100,
          100,
          95,
          91,
          86,
          79,
          72
         ],
         "textposition": "outside",
         "type": "bar",
         "uid": "15f4117a-5884-4110-9173-e54338982356",
         "x": [
          151,
          144,
          103,
          100,
          100,
          95,
          91,
          86,
          79,
          72
         ],
         "y": [
          "Fear Itself",
          "Dark Reign",
          "Acts of Vengeance!",
          "Civil War",
          "Secret Invasion",
          "Onslaught",
          "Age of Apocalypse",
          "Initiative",
          "Secret Empire",
          "Maximum Security"
         ]
        }
       ],
       "layout": {
        "bargroupgap": 0.1,
        "barmode": "group",
        "width": 900,
        "xaxis": {
         "title": {
          "text": "Number of Characters"
         }
        },
        "yaxis": {
         "automargin": true,
         "autorange": "reversed",
         "title": {
          "text": "Name of the event"
         }
        }
       }
      },
      "text/html": [
       "<div>\n",
       "        \n",
       "        \n",
       "            <div id=\"fa5cb248-38ec-4d8c-ba73-52782ba01394\" class=\"plotly-graph-div\" style=\"height:525px; width:900px;\"></div>\n",
       "            <script type=\"text/javascript\">\n",
       "                require([\"plotly\"], function(Plotly) {\n",
       "                    window.PLOTLYENV=window.PLOTLYENV || {};\n",
       "                    window.PLOTLYENV.BASE_URL='https://plot.ly';\n",
       "                    \n",
       "                if (document.getElementById(\"fa5cb248-38ec-4d8c-ba73-52782ba01394\")) {\n",
       "                    Plotly.newPlot(\n",
       "                        'fa5cb248-38ec-4d8c-ba73-52782ba01394',\n",
       "                        [{\"name\": \"Top 10\", \"orientation\": \"h\", \"text\": [151.0, 144.0, 103.0, 100.0, 100.0, 95.0, 91.0, 86.0, 79.0, 72.0], \"textposition\": \"outside\", \"type\": \"bar\", \"uid\": \"15f4117a-5884-4110-9173-e54338982356\", \"x\": [151, 144, 103, 100, 100, 95, 91, 86, 79, 72], \"y\": [\"Fear Itself\", \"Dark Reign\", \"Acts of Vengeance!\", \"Civil War\", \"Secret Invasion\", \"Onslaught\", \"Age of Apocalypse\", \"Initiative\", \"Secret Empire\", \"Maximum Security\"]}],\n",
       "                        {\"bargroupgap\": 0.1, \"barmode\": \"group\", \"width\": 900, \"xaxis\": {\"title\": {\"text\": \"Number of Characters\"}}, \"yaxis\": {\"automargin\": true, \"autorange\": \"reversed\", \"title\": {\"text\": \"Name of the event\"}}},\n",
       "                        {\"showLink\": false, \"linkText\": \"Export to plot.ly\", \"plotlyServerURL\": \"https://plot.ly\", \"responsive\": true}\n",
       "                    ).then(function(){\n",
       "                            \n",
       "var gd = document.getElementById('fa5cb248-38ec-4d8c-ba73-52782ba01394');\n",
       "var x = new MutationObserver(function (mutations, observer) {{\n",
       "        var display = window.getComputedStyle(gd).display;\n",
       "        if (!display || display === 'none') {{\n",
       "            console.log([gd, 'removed!']);\n",
       "            Plotly.purge(gd);\n",
       "            observer.disconnect();\n",
       "        }}\n",
       "}});\n",
       "\n",
       "// Listen for the removal of the full notebook cells\n",
       "var notebookContainer = gd.closest('#notebook-container');\n",
       "if (notebookContainer) {{\n",
       "    x.observe(notebookContainer, {childList: true});\n",
       "}}\n",
       "\n",
       "// Listen for the clearing of the current output cell\n",
       "var outputEl = gd.closest('.output');\n",
       "if (outputEl) {{\n",
       "    x.observe(outputEl, {childList: true});\n",
       "}}\n",
       "\n",
       "                        })\n",
       "                };\n",
       "                });\n",
       "            </script>\n",
       "        </div>"
      ]
     },
     "metadata": {},
     "output_type": "display_data"
    }
   ],
   "source": [
    "\n",
    "buddies = go.Bar(\n",
    "    x = top_10_events['characters'],\n",
    "    y = top_10_events['title'],\n",
    "    name = 'Top 10',\n",
    "    orientation='h',\n",
    "    text=top_10_events['characters'],\n",
    "    textposition='outside'\n",
    ")\n",
    "\n",
    "data = [buddies]\n",
    "layout = go.Layout(\n",
    "    barmode = 'group',\n",
    "    bargroupgap=0.1,\n",
    "    width = 900,\n",
    "    xaxis = {\n",
    "        'title': 'Number of Characters'\n",
    "    },\n",
    "    \n",
    "    yaxis={\n",
    "        'autorange': \"reversed\",\n",
    "        'title': \"Name of the event\"\n",
    "    }\n",
    ")\n",
    "\n",
    "fig = go.Figure(data = data, layout = layout)\n",
    "fig.update_yaxes(automargin=True)\n",
    "offline.iplot(fig)"
   ]
  },
  {
   "cell_type": "code",
   "execution_count": 24,
   "metadata": {},
   "outputs": [],
   "source": [
    "longest_running_events = events_df.sort_values('duration', ascending=False).iloc[:10]"
   ]
  },
  {
   "cell_type": "code",
   "execution_count": 25,
   "metadata": {},
   "outputs": [],
   "source": [
    "import numpy as np\n",
    "import math\n",
    "longest_running_events['duration'] = longest_running_events['duration'] /  np.timedelta64(1,'Y')\n"
   ]
  },
  {
   "cell_type": "code",
   "execution_count": 26,
   "metadata": {},
   "outputs": [],
   "source": [
    "longest_running_events['duration'] = longest_running_events['duration'].astype(int)\n"
   ]
  },
  {
   "cell_type": "code",
   "execution_count": 27,
   "metadata": {},
   "outputs": [
    {
     "data": {
      "application/vnd.plotly.v1+json": {
       "config": {
        "linkText": "Export to plot.ly",
        "plotlyServerURL": "https://plot.ly",
        "showLink": false
       },
       "data": [
        {
         "name": "Top 10",
         "orientation": "h",
         "text": [
          24,
          24,
          23,
          23,
          22,
          22,
          21,
          19,
          18,
          13
         ],
         "textposition": "outside",
         "type": "bar",
         "uid": "521df4bc-d971-459f-9ce6-952b91394061",
         "x": [
          24,
          24,
          23,
          23,
          22,
          22,
          21,
          19,
          18,
          13
         ],
         "y": [
          "Secret Wars",
          "Kraven's Last Hunt",
          "Secret Wars II",
          "Mutant Massacre",
          "Armor Wars",
          "Atlantis Attacks",
          "Inferno",
          "Fall of the Mutants",
          "Acts of Vengeance!",
          "Infinity Gauntlet"
         ]
        }
       ],
       "layout": {
        "bargroupgap": 0.1,
        "barmode": "group",
        "width": 900,
        "xaxis": {
         "title": {
          "text": "Running time in years"
         }
        },
        "yaxis": {
         "automargin": true,
         "autorange": "reversed",
         "title": {
          "text": "Name of the event"
         }
        }
       }
      },
      "text/html": [
       "<div>\n",
       "        \n",
       "        \n",
       "            <div id=\"3c9f0fa7-9936-4bf5-b88b-0becc8318fad\" class=\"plotly-graph-div\" style=\"height:525px; width:900px;\"></div>\n",
       "            <script type=\"text/javascript\">\n",
       "                require([\"plotly\"], function(Plotly) {\n",
       "                    window.PLOTLYENV=window.PLOTLYENV || {};\n",
       "                    window.PLOTLYENV.BASE_URL='https://plot.ly';\n",
       "                    \n",
       "                if (document.getElementById(\"3c9f0fa7-9936-4bf5-b88b-0becc8318fad\")) {\n",
       "                    Plotly.newPlot(\n",
       "                        '3c9f0fa7-9936-4bf5-b88b-0becc8318fad',\n",
       "                        [{\"name\": \"Top 10\", \"orientation\": \"h\", \"text\": [24.0, 24.0, 23.0, 23.0, 22.0, 22.0, 21.0, 19.0, 18.0, 13.0], \"textposition\": \"outside\", \"type\": \"bar\", \"uid\": \"521df4bc-d971-459f-9ce6-952b91394061\", \"x\": [24, 24, 23, 23, 22, 22, 21, 19, 18, 13], \"y\": [\"Secret Wars\", \"Kraven's Last Hunt\", \"Secret Wars II\", \"Mutant Massacre\", \"Armor Wars\", \"Atlantis Attacks\", \"Inferno\", \"Fall of the Mutants\", \"Acts of Vengeance!\", \"Infinity Gauntlet\"]}],\n",
       "                        {\"bargroupgap\": 0.1, \"barmode\": \"group\", \"width\": 900, \"xaxis\": {\"title\": {\"text\": \"Running time in years\"}}, \"yaxis\": {\"automargin\": true, \"autorange\": \"reversed\", \"title\": {\"text\": \"Name of the event\"}}},\n",
       "                        {\"showLink\": false, \"linkText\": \"Export to plot.ly\", \"plotlyServerURL\": \"https://plot.ly\", \"responsive\": true}\n",
       "                    ).then(function(){\n",
       "                            \n",
       "var gd = document.getElementById('3c9f0fa7-9936-4bf5-b88b-0becc8318fad');\n",
       "var x = new MutationObserver(function (mutations, observer) {{\n",
       "        var display = window.getComputedStyle(gd).display;\n",
       "        if (!display || display === 'none') {{\n",
       "            console.log([gd, 'removed!']);\n",
       "            Plotly.purge(gd);\n",
       "            observer.disconnect();\n",
       "        }}\n",
       "}});\n",
       "\n",
       "// Listen for the removal of the full notebook cells\n",
       "var notebookContainer = gd.closest('#notebook-container');\n",
       "if (notebookContainer) {{\n",
       "    x.observe(notebookContainer, {childList: true});\n",
       "}}\n",
       "\n",
       "// Listen for the clearing of the current output cell\n",
       "var outputEl = gd.closest('.output');\n",
       "if (outputEl) {{\n",
       "    x.observe(outputEl, {childList: true});\n",
       "}}\n",
       "\n",
       "                        })\n",
       "                };\n",
       "                });\n",
       "            </script>\n",
       "        </div>"
      ]
     },
     "metadata": {},
     "output_type": "display_data"
    }
   ],
   "source": [
    "\n",
    "buddies = go.Bar(\n",
    "    x = longest_running_events['duration'],\n",
    "    y = longest_running_events['title'],\n",
    "    name = 'Top 10',\n",
    "    orientation='h',\n",
    "    text=longest_running_events['duration'],\n",
    "    textposition='outside'\n",
    ")\n",
    "\n",
    "data = [buddies]\n",
    "layout = go.Layout(\n",
    "    barmode = 'group',\n",
    "    bargroupgap=0.1,\n",
    "    width = 900,\n",
    "    xaxis = {\n",
    "        'title': \"Running time in years\"\n",
    "    },\n",
    "    yaxis=dict(autorange=\"reversed\", title=\"Name of the event\")\n",
    ")\n",
    "\n",
    "fig = go.Figure(data = data, layout = layout)\n",
    "fig.update_yaxes(automargin=True)\n",
    "offline.iplot(fig)"
   ]
  },
  {
   "cell_type": "code",
   "execution_count": 34,
   "metadata": {},
   "outputs": [
    {
     "data": {
      "text/html": [
       "<div>\n",
       "<style scoped>\n",
       "    .dataframe tbody tr th:only-of-type {\n",
       "        vertical-align: middle;\n",
       "    }\n",
       "\n",
       "    .dataframe tbody tr th {\n",
       "        vertical-align: top;\n",
       "    }\n",
       "\n",
       "    .dataframe thead th {\n",
       "        text-align: right;\n",
       "    }\n",
       "</style>\n",
       "<table border=\"1\" class=\"dataframe\">\n",
       "  <thead>\n",
       "    <tr style=\"text-align: right;\">\n",
       "      <th></th>\n",
       "      <th>title</th>\n",
       "      <th>start_date</th>\n",
       "      <th>end_date</th>\n",
       "    </tr>\n",
       "  </thead>\n",
       "  <tbody>\n",
       "    <tr>\n",
       "      <td>41</td>\n",
       "      <td>Secret Wars</td>\n",
       "      <td>1984-05-10</td>\n",
       "      <td>2008-12-17</td>\n",
       "    </tr>\n",
       "    <tr>\n",
       "      <td>63</td>\n",
       "      <td>Kraven's Last Hunt</td>\n",
       "      <td>1987-10-10</td>\n",
       "      <td>2012-03-21</td>\n",
       "    </tr>\n",
       "    <tr>\n",
       "      <td>43</td>\n",
       "      <td>Secret Wars II</td>\n",
       "      <td>1985-07-10</td>\n",
       "      <td>2009-05-13</td>\n",
       "    </tr>\n",
       "    <tr>\n",
       "      <td>21</td>\n",
       "      <td>Mutant Massacre</td>\n",
       "      <td>1986-10-10</td>\n",
       "      <td>2010-01-06</td>\n",
       "    </tr>\n",
       "    <tr>\n",
       "      <td>7</td>\n",
       "      <td>Armor Wars</td>\n",
       "      <td>1987-12-10</td>\n",
       "      <td>2010-03-17</td>\n",
       "    </tr>\n",
       "    <tr>\n",
       "      <td>8</td>\n",
       "      <td>Atlantis Attacks</td>\n",
       "      <td>1989-01-01</td>\n",
       "      <td>2011-02-16</td>\n",
       "    </tr>\n",
       "    <tr>\n",
       "      <td>34</td>\n",
       "      <td>Inferno</td>\n",
       "      <td>1988-12-10</td>\n",
       "      <td>2010-08-25</td>\n",
       "    </tr>\n",
       "    <tr>\n",
       "      <td>29</td>\n",
       "      <td>Fall of the Mutants</td>\n",
       "      <td>1988-01-10</td>\n",
       "      <td>2007-01-17</td>\n",
       "    </tr>\n",
       "    <tr>\n",
       "      <td>0</td>\n",
       "      <td>Acts of Vengeance!</td>\n",
       "      <td>1989-12-10</td>\n",
       "      <td>2008-01-04</td>\n",
       "    </tr>\n",
       "    <tr>\n",
       "      <td>56</td>\n",
       "      <td>Infinity Gauntlet</td>\n",
       "      <td>1991-07-10</td>\n",
       "      <td>2005-01-19</td>\n",
       "    </tr>\n",
       "  </tbody>\n",
       "</table>\n",
       "</div>"
      ],
      "text/plain": [
       "                  title start_date   end_date\n",
       "41          Secret Wars 1984-05-10 2008-12-17\n",
       "63   Kraven's Last Hunt 1987-10-10 2012-03-21\n",
       "43       Secret Wars II 1985-07-10 2009-05-13\n",
       "21      Mutant Massacre 1986-10-10 2010-01-06\n",
       "7            Armor Wars 1987-12-10 2010-03-17\n",
       "8      Atlantis Attacks 1989-01-01 2011-02-16\n",
       "34              Inferno 1988-12-10 2010-08-25\n",
       "29  Fall of the Mutants 1988-01-10 2007-01-17\n",
       "0    Acts of Vengeance! 1989-12-10 2008-01-04\n",
       "56    Infinity Gauntlet 1991-07-10 2005-01-19"
      ]
     },
     "execution_count": 34,
     "metadata": {},
     "output_type": "execute_result"
    }
   ],
   "source": [
    "longest_running_events.loc[: ,['title', 'start_date', 'end_date']]"
   ]
  }
 ],
 "metadata": {
  "kernelspec": {
   "display_name": "Python 3",
   "language": "python",
   "name": "python3"
  },
  "language_info": {
   "codemirror_mode": {
    "name": "ipython",
    "version": 3
   },
   "file_extension": ".py",
   "mimetype": "text/x-python",
   "name": "python",
   "nbconvert_exporter": "python",
   "pygments_lexer": "ipython3",
   "version": "3.7.0"
  }
 },
 "nbformat": 4,
 "nbformat_minor": 4
}
