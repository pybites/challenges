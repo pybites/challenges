{
 "cells": [
  {
   "cell_type": "code",
   "execution_count": 1,
   "metadata": {},
   "outputs": [],
   "source": [
    "from collections import namedtuple\n",
    "import csv\n",
    "import os\n",
    "import sqlite3\n",
    "import pandas as pd\n",
    "\n",
    "import requests\n",
    "\n",
    "DATA_URL = 'https://query.data.world/s/ezwk64ej624qyverrw6x7od7co7ftm'\n",
    "DATA_CACHED = 'nba.data'\n",
    "NBA_DB = 'nba.db'"
   ]
  },
  {
   "cell_type": "code",
   "execution_count": 40,
   "metadata": {},
   "outputs": [],
   "source": [
    "# start clean\n",
    "if os.path.isfile(NBA_DB):\n",
    "    os.remove(NBA_DB)\n",
    "\n",
    "Player = namedtuple('Player', ('name year first_year team college active '\n",
    "                               'games avg_min avg_points'))\n",
    "\n",
    "conn = sqlite3.connect(NBA_DB)\n",
    "cur = conn.cursor()"
   ]
  },
  {
   "cell_type": "code",
   "execution_count": 3,
   "metadata": {},
   "outputs": [],
   "source": [
    "def _get_csv_data():\n",
    "    \"\"\"GIVEN:\n",
    "       Load in CSV data in from remote URL or local cache file\"\"\"\n",
    "    if os.path.isfile(DATA_CACHED):\n",
    "        with open(DATA_CACHED) as f:\n",
    "            return f.read()\n",
    "    else:\n",
    "        with requests.Session() as session:\n",
    "            return session.get(DATA_URL).content.decode('utf-8')\n",
    "\n",
    "\n",
    "def load_data():\n",
    "    \"\"\"GIVEN:\n",
    "       Converts NBA CSV data into a list of Player namedtuples\"\"\"\n",
    "    content = _get_csv_data()\n",
    "    reader = csv.DictReader(content.splitlines(), delimiter=',')\n",
    "    for row in reader:\n",
    "        player = Player(name=row['Player'],\n",
    "                        year=row['Draft_Yr'],\n",
    "                        first_year=row['first_year'],\n",
    "                        team=row['Team'],\n",
    "                        college=row['College'],\n",
    "                        active=row['Yrs'],\n",
    "                        games=row['Games'],\n",
    "                        avg_min=row['Minutes.per.Game'],\n",
    "                        avg_points=row['Points.per.Game'])\n",
    "        yield player\n",
    "\n",
    "# CODE HERE (tests under __main__):"
   ]
  },
  {
   "cell_type": "code",
   "execution_count": 41,
   "metadata": {},
   "outputs": [
    {
     "data": {
      "text/plain": [
       "<sqlite3.Cursor at 0x6eaffbe0>"
      ]
     },
     "execution_count": 41,
     "metadata": {},
     "output_type": "execute_result"
    }
   ],
   "source": [
    "cur.execute(\"\"\"\n",
    "    CREATE TABLE players (\n",
    "        name, \n",
    "        year INTEGER, \n",
    "        first_year INTEGER, \n",
    "        team, \n",
    "        college,\n",
    "        active INTEGER, \n",
    "        games INTEGER, \n",
    "        avg_min FLOAT, \n",
    "        avg_points FLOAT)\"\"\")"
   ]
  },
  {
   "cell_type": "code",
   "execution_count": 5,
   "metadata": {},
   "outputs": [],
   "source": [
    "def import_to_db(players=None):\n",
    "    \"\"\"Create database table in sqlite3 and import the players data\n",
    "\n",
    "       required table SQL:\n",
    "       CREATE TABLE players (name, year, first_year, team, college,\n",
    "                             active, games, avg_min, avg_points)\n",
    "    \"\"\"\n",
    "    if players is None:\n",
    "        players = list(load_data())\n",
    "        players = list(load_data())\n",
    "        cur.executemany(\"\"\"INSERT INTO players \n",
    "                                  (name, year, first_year, team, college, active, games, avg_min, avg_points) \n",
    "                           VALUES (   ?,    ?,          ?,    ?,       ?,      ?,     ?,       ?,          ?)\"\"\", players)"
   ]
  },
  {
   "cell_type": "code",
   "execution_count": 42,
   "metadata": {},
   "outputs": [
    {
     "data": {
      "text/html": [
       "<div>\n",
       "<style scoped>\n",
       "    .dataframe tbody tr th:only-of-type {\n",
       "        vertical-align: middle;\n",
       "    }\n",
       "\n",
       "    .dataframe tbody tr th {\n",
       "        vertical-align: top;\n",
       "    }\n",
       "\n",
       "    .dataframe thead th {\n",
       "        text-align: right;\n",
       "    }\n",
       "</style>\n",
       "<table border=\"1\" class=\"dataframe\">\n",
       "  <thead>\n",
       "    <tr style=\"text-align: right;\">\n",
       "      <th></th>\n",
       "      <th>name</th>\n",
       "      <th>year</th>\n",
       "      <th>first_year</th>\n",
       "      <th>team</th>\n",
       "      <th>college</th>\n",
       "      <th>active</th>\n",
       "      <th>games</th>\n",
       "      <th>avg_min</th>\n",
       "      <th>avg_points</th>\n",
       "    </tr>\n",
       "  </thead>\n",
       "  <tbody>\n",
       "    <tr>\n",
       "      <th>0</th>\n",
       "      <td>Robert Parish</td>\n",
       "      <td>1976</td>\n",
       "      <td>0</td>\n",
       "      <td>GSW</td>\n",
       "      <td>Centenary College of Louisiana</td>\n",
       "      <td>21</td>\n",
       "      <td>1611</td>\n",
       "      <td>28.4</td>\n",
       "      <td>14.5</td>\n",
       "    </tr>\n",
       "    <tr>\n",
       "      <th>1</th>\n",
       "      <td>Sonny Parker</td>\n",
       "      <td>1976</td>\n",
       "      <td>0</td>\n",
       "      <td>GSW</td>\n",
       "      <td>Texas A&amp;M University</td>\n",
       "      <td>6</td>\n",
       "      <td>452</td>\n",
       "      <td>24.2</td>\n",
       "      <td>9.9</td>\n",
       "    </tr>\n",
       "    <tr>\n",
       "      <th>2</th>\n",
       "      <td>Marshall Rogers</td>\n",
       "      <td>1976</td>\n",
       "      <td>0</td>\n",
       "      <td>GSW</td>\n",
       "      <td>University of Texas-Pan American</td>\n",
       "      <td>1</td>\n",
       "      <td>26</td>\n",
       "      <td>6.8</td>\n",
       "      <td>3.8</td>\n",
       "    </tr>\n",
       "    <tr>\n",
       "      <th>3</th>\n",
       "      <td>Jeff Fosnes</td>\n",
       "      <td>1976</td>\n",
       "      <td>0</td>\n",
       "      <td>GSW</td>\n",
       "      <td>Vanderbilt University</td>\n",
       "      <td>0</td>\n",
       "      <td>0</td>\n",
       "      <td>0.0</td>\n",
       "      <td>0.0</td>\n",
       "    </tr>\n",
       "    <tr>\n",
       "      <th>4</th>\n",
       "      <td>Carl Bird</td>\n",
       "      <td>1976</td>\n",
       "      <td>0</td>\n",
       "      <td>GSW</td>\n",
       "      <td>University of California</td>\n",
       "      <td>0</td>\n",
       "      <td>0</td>\n",
       "      <td>0.0</td>\n",
       "      <td>0.0</td>\n",
       "    </tr>\n",
       "  </tbody>\n",
       "</table>\n",
       "</div>"
      ],
      "text/plain": [
       "              name  year  first_year team                           college  \\\n",
       "0    Robert Parish  1976           0  GSW    Centenary College of Louisiana   \n",
       "1     Sonny Parker  1976           0  GSW              Texas A&M University   \n",
       "2  Marshall Rogers  1976           0  GSW  University of Texas-Pan American   \n",
       "3      Jeff Fosnes  1976           0  GSW             Vanderbilt University   \n",
       "4        Carl Bird  1976           0  GSW          University of California   \n",
       "\n",
       "   active  games  avg_min  avg_points  \n",
       "0      21   1611     28.4        14.5  \n",
       "1       6    452     24.2         9.9  \n",
       "2       1     26      6.8         3.8  \n",
       "3       0      0      0.0         0.0  \n",
       "4       0      0      0.0         0.0  "
      ]
     },
     "execution_count": 42,
     "metadata": {},
     "output_type": "execute_result"
    }
   ],
   "source": [
    "import_to_db()\n",
    "df = pd.read_sql(\"SELECT * FROM players\", con=conn);\n",
    "df.head()"
   ]
  },
  {
   "cell_type": "code",
   "execution_count": 7,
   "metadata": {},
   "outputs": [
    {
     "data": {
      "text/html": [
       "<div>\n",
       "<style scoped>\n",
       "    .dataframe tbody tr th:only-of-type {\n",
       "        vertical-align: middle;\n",
       "    }\n",
       "\n",
       "    .dataframe tbody tr th {\n",
       "        vertical-align: top;\n",
       "    }\n",
       "\n",
       "    .dataframe thead th {\n",
       "        text-align: right;\n",
       "    }\n",
       "</style>\n",
       "<table border=\"1\" class=\"dataframe\">\n",
       "  <thead>\n",
       "    <tr style=\"text-align: right;\">\n",
       "      <th></th>\n",
       "      <th>year</th>\n",
       "      <th>first_year</th>\n",
       "      <th>active</th>\n",
       "      <th>games</th>\n",
       "      <th>avg_min</th>\n",
       "      <th>avg_points</th>\n",
       "    </tr>\n",
       "  </thead>\n",
       "  <tbody>\n",
       "    <tr>\n",
       "      <th>count</th>\n",
       "      <td>3961.000000</td>\n",
       "      <td>3961.000000</td>\n",
       "      <td>3961.000000</td>\n",
       "      <td>3961.000000</td>\n",
       "      <td>3961.000000</td>\n",
       "      <td>3961.000000</td>\n",
       "    </tr>\n",
       "    <tr>\n",
       "      <th>mean</th>\n",
       "      <td>1989.792477</td>\n",
       "      <td>0.015148</td>\n",
       "      <td>3.266094</td>\n",
       "      <td>187.461500</td>\n",
       "      <td>9.325120</td>\n",
       "      <td>3.697122</td>\n",
       "    </tr>\n",
       "    <tr>\n",
       "      <th>std</th>\n",
       "      <td>11.500696</td>\n",
       "      <td>0.122156</td>\n",
       "      <td>4.614195</td>\n",
       "      <td>301.730508</td>\n",
       "      <td>10.921036</td>\n",
       "      <td>4.962079</td>\n",
       "    </tr>\n",
       "    <tr>\n",
       "      <th>min</th>\n",
       "      <td>1976.000000</td>\n",
       "      <td>0.000000</td>\n",
       "      <td>0.000000</td>\n",
       "      <td>0.000000</td>\n",
       "      <td>0.000000</td>\n",
       "      <td>0.000000</td>\n",
       "    </tr>\n",
       "    <tr>\n",
       "      <th>25%</th>\n",
       "      <td>1981.000000</td>\n",
       "      <td>0.000000</td>\n",
       "      <td>0.000000</td>\n",
       "      <td>0.000000</td>\n",
       "      <td>0.000000</td>\n",
       "      <td>0.000000</td>\n",
       "    </tr>\n",
       "    <tr>\n",
       "      <th>50%</th>\n",
       "      <td>1985.000000</td>\n",
       "      <td>0.000000</td>\n",
       "      <td>1.000000</td>\n",
       "      <td>8.000000</td>\n",
       "      <td>4.800000</td>\n",
       "      <td>1.400000</td>\n",
       "    </tr>\n",
       "    <tr>\n",
       "      <th>75%</th>\n",
       "      <td>1999.000000</td>\n",
       "      <td>0.000000</td>\n",
       "      <td>5.000000</td>\n",
       "      <td>270.000000</td>\n",
       "      <td>17.700000</td>\n",
       "      <td>6.100000</td>\n",
       "    </tr>\n",
       "    <tr>\n",
       "      <th>max</th>\n",
       "      <td>2015.000000</td>\n",
       "      <td>1.000000</td>\n",
       "      <td>21.000000</td>\n",
       "      <td>1611.000000</td>\n",
       "      <td>41.100000</td>\n",
       "      <td>30.100000</td>\n",
       "    </tr>\n",
       "  </tbody>\n",
       "</table>\n",
       "</div>"
      ],
      "text/plain": [
       "              year   first_year       active        games      avg_min  \\\n",
       "count  3961.000000  3961.000000  3961.000000  3961.000000  3961.000000   \n",
       "mean   1989.792477     0.015148     3.266094   187.461500     9.325120   \n",
       "std      11.500696     0.122156     4.614195   301.730508    10.921036   \n",
       "min    1976.000000     0.000000     0.000000     0.000000     0.000000   \n",
       "25%    1981.000000     0.000000     0.000000     0.000000     0.000000   \n",
       "50%    1985.000000     0.000000     1.000000     8.000000     4.800000   \n",
       "75%    1999.000000     0.000000     5.000000   270.000000    17.700000   \n",
       "max    2015.000000     1.000000    21.000000  1611.000000    41.100000   \n",
       "\n",
       "        avg_points  \n",
       "count  3961.000000  \n",
       "mean      3.697122  \n",
       "std       4.962079  \n",
       "min       0.000000  \n",
       "25%       0.000000  \n",
       "50%       1.400000  \n",
       "75%       6.100000  \n",
       "max      30.100000  "
      ]
     },
     "execution_count": 7,
     "metadata": {},
     "output_type": "execute_result"
    }
   ],
   "source": [
    "df.describe()"
   ]
  },
  {
   "cell_type": "code",
   "execution_count": 8,
   "metadata": {},
   "outputs": [
    {
     "data": {
      "text/html": [
       "<div>\n",
       "<style scoped>\n",
       "    .dataframe tbody tr th:only-of-type {\n",
       "        vertical-align: middle;\n",
       "    }\n",
       "\n",
       "    .dataframe tbody tr th {\n",
       "        vertical-align: top;\n",
       "    }\n",
       "\n",
       "    .dataframe thead th {\n",
       "        text-align: right;\n",
       "    }\n",
       "</style>\n",
       "<table border=\"1\" class=\"dataframe\">\n",
       "  <thead>\n",
       "    <tr style=\"text-align: right;\">\n",
       "      <th></th>\n",
       "      <th>name</th>\n",
       "      <th>year</th>\n",
       "      <th>first_year</th>\n",
       "      <th>team</th>\n",
       "      <th>college</th>\n",
       "      <th>active</th>\n",
       "      <th>games</th>\n",
       "      <th>avg_min</th>\n",
       "      <th>avg_points</th>\n",
       "    </tr>\n",
       "  </thead>\n",
       "  <tbody>\n",
       "    <tr>\n",
       "      <th>0</th>\n",
       "      <td>Michael Jordan</td>\n",
       "      <td>1984</td>\n",
       "      <td>0</td>\n",
       "      <td>CHI</td>\n",
       "      <td>University of North Carolina</td>\n",
       "      <td>15</td>\n",
       "      <td>1072</td>\n",
       "      <td>38.3</td>\n",
       "      <td>30.1</td>\n",
       "    </tr>\n",
       "    <tr>\n",
       "      <th>1</th>\n",
       "      <td>Kevin Durant</td>\n",
       "      <td>2007</td>\n",
       "      <td>0</td>\n",
       "      <td>OKC</td>\n",
       "      <td>University of Texas at Austin</td>\n",
       "      <td>9</td>\n",
       "      <td>641</td>\n",
       "      <td>37.8</td>\n",
       "      <td>27.4</td>\n",
       "    </tr>\n",
       "    <tr>\n",
       "      <th>2</th>\n",
       "      <td>LeBron James</td>\n",
       "      <td>2003</td>\n",
       "      <td>0</td>\n",
       "      <td>CLE</td>\n",
       "      <td>0</td>\n",
       "      <td>13</td>\n",
       "      <td>987</td>\n",
       "      <td>39.0</td>\n",
       "      <td>27.2</td>\n",
       "    </tr>\n",
       "    <tr>\n",
       "      <th>3</th>\n",
       "      <td>Allen Iverson</td>\n",
       "      <td>1996</td>\n",
       "      <td>0</td>\n",
       "      <td>PHI</td>\n",
       "      <td>Georgetown University</td>\n",
       "      <td>14</td>\n",
       "      <td>914</td>\n",
       "      <td>41.1</td>\n",
       "      <td>26.7</td>\n",
       "    </tr>\n",
       "    <tr>\n",
       "      <th>4</th>\n",
       "      <td>Kobe Bryant</td>\n",
       "      <td>1996</td>\n",
       "      <td>0</td>\n",
       "      <td>NOH</td>\n",
       "      <td>0</td>\n",
       "      <td>20</td>\n",
       "      <td>1346</td>\n",
       "      <td>36.1</td>\n",
       "      <td>25.0</td>\n",
       "    </tr>\n",
       "  </tbody>\n",
       "</table>\n",
       "</div>"
      ],
      "text/plain": [
       "             name  year  first_year team                        college  \\\n",
       "0  Michael Jordan  1984           0  CHI   University of North Carolina   \n",
       "1    Kevin Durant  2007           0  OKC  University of Texas at Austin   \n",
       "2    LeBron James  2003           0  CLE                              0   \n",
       "3   Allen Iverson  1996           0  PHI          Georgetown University   \n",
       "4     Kobe Bryant  1996           0  NOH                              0   \n",
       "\n",
       "   active  games  avg_min  avg_points  \n",
       "0      15   1072     38.3        30.1  \n",
       "1       9    641     37.8        27.4  \n",
       "2      13    987     39.0        27.2  \n",
       "3      14    914     41.1        26.7  \n",
       "4      20   1346     36.1        25.0  "
      ]
     },
     "execution_count": 8,
     "metadata": {},
     "output_type": "execute_result"
    }
   ],
   "source": [
    "pd.read_sql(\"SELECT * FROM players ORDER BY avg_points DESC\", con=conn).head()"
   ]
  },
  {
   "cell_type": "code",
   "execution_count": 9,
   "metadata": {},
   "outputs": [
    {
     "data": {
      "text/plain": [
       "'Michael Jordan'"
      ]
     },
     "execution_count": 9,
     "metadata": {},
     "output_type": "execute_result"
    }
   ],
   "source": [
    "def player_with_max_points_per_game():\n",
    "    \"\"\"The player with highest average points per game\"\"\"\n",
    "    c = cur.execute(\"SELECT name FROM players ORDER BY avg_points DESC\")\n",
    "    r = c.fetchone()\n",
    "    return r[0]\n",
    "    \n",
    "player_with_max_points_per_game()"
   ]
  },
  {
   "cell_type": "code",
   "execution_count": 10,
   "metadata": {},
   "outputs": [
    {
     "data": {
      "text/plain": [
       "58"
      ]
     },
     "execution_count": 10,
     "metadata": {},
     "output_type": "execute_result"
    }
   ],
   "source": [
    "def number_of_players_from_duke():\n",
    "    \"\"\"Return the number of players with college == Duke University\"\"\"\n",
    "    c = cur.execute(\"SELECT COUNT(*) FROM players WHERE college = ?\", ('Duke University',))\n",
    "    r = c.fetchone()\n",
    "    return r[0]\n",
    "\n",
    "number_of_players_from_duke()"
   ]
  },
  {
   "cell_type": "code",
   "execution_count": 60,
   "metadata": {},
   "outputs": [
    {
     "data": {
      "text/plain": [
       "1.5147689977278465"
      ]
     },
     "execution_count": 60,
     "metadata": {},
     "output_type": "execute_result"
    }
   ],
   "source": [
    "def percentage_of_players_first_year():\n",
    "    \"\"\"Return 2 digit percentage of players whose first year it is\n",
    "       (first_year column)\"\"\"\n",
    "    c = cur.execute(\"SELECT COUNT(*) FROM players\")\n",
    "    r = c.fetchone()\n",
    "    total_count = r[0]\n",
    "    c = cur.execute(\"SELECT COUNT(*) FROM players WHERE first_year = ?\", (1,))\n",
    "    r = c.fetchone()\n",
    "    first_year_count = r[0]\n",
    "    return first_year_count / total_count * 100.0\n",
    "\n",
    "percentage_of_players_first_year()"
   ]
  },
  {
   "cell_type": "code",
   "execution_count": 29,
   "metadata": {},
   "outputs": [
    {
     "data": {
      "text/plain": [
       "4.583333333333333"
      ]
     },
     "execution_count": 29,
     "metadata": {},
     "output_type": "execute_result"
    }
   ],
   "source": [
    "def avg_years_active_players_stanford():\n",
    "    \"\"\"Return the average years that players from \"Stanford University\n",
    "       are active (\"active\" column)\"\"\"\n",
    "    c = cur.execute(\"SELECT AVG(active) FROM players WHERE college = ?\", ('Stanford University',))\n",
    "    r = c.fetchone()\n",
    "    return r[0]\n",
    "\n",
    "avg_years_active_players_stanford()"
   ]
  },
  {
   "cell_type": "code",
   "execution_count": 31,
   "metadata": {},
   "outputs": [
    {
     "data": {
      "text/plain": [
       "1984"
      ]
     },
     "execution_count": 31,
     "metadata": {},
     "output_type": "execute_result"
    }
   ],
   "source": [
    "def year_with_most_drafts():\n",
    "    \"\"\"Return the year with the most drafts, in SQL you can use GROUP BY\"\"\"\n",
    "    c = cur.execute(\"SELECT year, COUNT(*) FROM players GROUP BY year ORDER BY COUNT(*) DESC\")\n",
    "    r = c.fetchone()\n",
    "    return r[0]\n",
    "\n",
    "year_with_most_drafts()"
   ]
  },
  {
   "cell_type": "code",
   "execution_count": 55,
   "metadata": {},
   "outputs": [
    {
     "data": {
      "text/plain": [
       "['Terry Tyler',\n",
       " 'John Stockton',\n",
       " 'Mark Eaton',\n",
       " 'A.C. Green',\n",
       " 'Alex English',\n",
       " 'Jack Sikma']"
      ]
     },
     "execution_count": 55,
     "metadata": {},
     "output_type": "execute_result"
    }
   ],
   "source": [
    "def most_games_per_year_for_veterans():\n",
    "    \"\"\"Top 6 players that are > 10 years active, that have the\n",
    "       highest # games / year\"\"\"\n",
    "    c = cur.execute(\"SELECT name FROM players WHERE active > 10 ORDER BY games/active DESC\")\n",
    "    top_size = []\n",
    "    while (len(top_size) < 6):\n",
    "        r = c.fetchone()\n",
    "        top_size.append(r[0])\n",
    "    return top_size\n",
    "\n",
    "most_games_per_year_for_veterans()\n"
   ]
  },
  {
   "cell_type": "code",
   "execution_count": null,
   "metadata": {},
   "outputs": [],
   "source": [
    "if __name__ == '__main__':\n",
    "    import_to_db()\n",
    "\n",
    "    # A. check if the import went well\n",
    "    def _verify_total_row_count_after_import():\n",
    "        sql = '''SELECT COUNT(*) FROM players'''\n",
    "        cur.execute(sql)\n",
    "        ret = cur.fetchall()\n",
    "        return ret[0][0]\n",
    "\n",
    "    assert _verify_total_row_count_after_import() == 3961\n",
    "\n",
    "    # B. some simple asserts of the data analysis functions\n",
    "    assert player_with_max_points_per_game() == 'Michael Jordan'\n",
    "\n",
    "    assert number_of_players_from_duke() == 58\n",
    "\n",
    "    assert round(avg_years_active_players_stanford(), 2) == 4.58\n",
    "\n",
    "    assert round(percentage_of_players_first_year(), 2) == 1.51\n",
    "\n",
    "    assert int(year_with_most_drafts()) == 1984\n",
    "\n",
    "    expected = ['A.C. Green', 'Alex English', 'Jack Sikma',\n",
    "                'John Stockton', 'Mark Eaton', 'Terry Tyler']\n",
    "    assert sorted(most_games_per_year_for_veterans()) == expected\n"
   ]
  }
 ],
 "metadata": {
  "kernelspec": {
   "display_name": "Python 3",
   "language": "python",
   "name": "python3"
  },
  "language_info": {
   "codemirror_mode": {
    "name": "ipython",
    "version": 3
   },
   "file_extension": ".py",
   "mimetype": "text/x-python",
   "name": "python",
   "nbconvert_exporter": "python",
   "pygments_lexer": "ipython3",
   "version": "3.4.3"
  }
 },
 "nbformat": 4,
 "nbformat_minor": 2
}
