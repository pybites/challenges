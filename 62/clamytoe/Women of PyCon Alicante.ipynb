{
 "cells": [
  {
   "cell_type": "code",
   "execution_count": 1,
   "metadata": {},
   "outputs": [],
   "source": [
    "from pathlib import Path\n",
    "from urllib.request import urlretrieve\n",
    "\n",
    "import gender_guesser.detector as gender\n",
    "from bs4 import BeautifulSoup as Soup"
   ]
  },
  {
   "cell_type": "code",
   "execution_count": 2,
   "metadata": {},
   "outputs": [],
   "source": [
    "detector = gender.Detector()\n",
    "pycon_talks = {\n",
    "    \"py13_es\": \"http://2013.es.pycon.org/#agenda\",\n",
    "    \"py14_es\": \"http://2014.es.pycon.org/talks\",\n",
    "    \"py15_es\": \"http://2015.es.pycon.org/en/schedule/\",\n",
    "    \"py16_es\": \"http://2016.es.pycon.org/en/schedule/\",\n",
    "    \"py17_es\": \"https://2017.es.pycon.org/en/schedule/\",\n",
    "    \"py18_es\": \"https://2018.es.pycon.org/#schedule\",\n",
    "    \"py13_us\": \"https://us.pycon.org/2013/schedule/talks/list/\",\n",
    "    \"py14_us\": \"https://us.pycon.org/2014/schedule/talks/list/\",\n",
    "    \"py15_us\": \"https://us.pycon.org/2015/schedule/talks/list/\",\n",
    "    \"py16_us\": \"https://us.pycon.org/2016/schedule/talks/\",\n",
    "    \"py17_us\": \"https://us.pycon.org/2017/schedule/talks/\",\n",
    "    \"py18_us\": \"https://us.pycon.org/2018/schedule/talks/\",\n",
    "}"
   ]
  },
  {
   "cell_type": "code",
   "execution_count": 3,
   "metadata": {},
   "outputs": [],
   "source": [
    "def cleanup_names(names):\n",
    "    devs = []\n",
    "    for name in names:\n",
    "        name = name.strip()\n",
    "        if \" \" in name and not contains_junk(name):\n",
    "            seperator = multiple_devs(name)\n",
    "            if seperator is not None:\n",
    "                for dev in name.split(seperator):\n",
    "                    devs.append(dev.strip().title())\n",
    "            else:\n",
    "                name = name.replace(\"CodeSyntax - \", \"\")\n",
    "                devs.append(name.title())\n",
    "    return devs"
   ]
  },
  {
   "cell_type": "code",
   "execution_count": 4,
   "metadata": {},
   "outputs": [],
   "source": [
    "def contains_junk(content):\n",
    "    junk = [\"pybonacci\", \">\", \"#\", \"2016\", \"2017\"]\n",
    "    for j in junk:\n",
    "        if j in content:\n",
    "            return True\n",
    "    return False"
   ]
  },
  {
   "cell_type": "code",
   "execution_count": 5,
   "metadata": {},
   "outputs": [],
   "source": [
    "def get_soup(pycon):\n",
    "    file = Path(f\"{pycon}.html\")\n",
    "    if not file.exists():\n",
    "        urlretrieve(pycon_talks[pycon], file)\n",
    "    return Soup(file.read_text(), \"html.parser\")"
   ]
  },
  {
   "cell_type": "code",
   "execution_count": 6,
   "metadata": {},
   "outputs": [],
   "source": [
    "def multiple_devs(names):\n",
    "    seperators = [\" and \", \" e \", \" y \", \" / \", \", \"]\n",
    "    for seperator in seperators:\n",
    "        if seperator in names:\n",
    "            return seperator\n",
    "    return None    "
   ]
  },
  {
   "cell_type": "code",
   "execution_count": 7,
   "metadata": {},
   "outputs": [],
   "source": [
    "def pycon_article(pycon):\n",
    "    soup = get_soup(pycon)\n",
    "    schedule = soup.find(\"article\", {\"class\": \"schedule\"})\n",
    "    links = schedule.find_all(\"a\")\n",
    "    names = [link.text for link in links if \"twitter\" in link.get(\"href\", \"Nope\")]\n",
    "    return cleanup_names(names)"
   ]
  },
  {
   "cell_type": "code",
   "execution_count": 8,
   "metadata": {},
   "outputs": [],
   "source": [
    "def pycon_header(pycon):\n",
    "    soup = get_soup(pycon)\n",
    "    schedule = soup.find(\"div\", {\"id\": \"onlytext\"})\n",
    "    headers = schedule.find_all(\"h1\", {\"class\": \"text-center\"})\n",
    "    names = [header.text.strip() for header in headers]\n",
    "    return cleanup_names(names)"
   ]
  },
  {
   "cell_type": "code",
   "execution_count": 9,
   "metadata": {},
   "outputs": [],
   "source": [
    "def pycon_ptag(pycon):\n",
    "    soup = get_soup(pycon)\n",
    "    schedule = soup.find(\"div\", {\"class\": \"container schedule\"})\n",
    "    names = [ptag.text for ptag in schedule.find_all(\"p\") if ptag.find(\"strong\")]\n",
    "    return cleanup_names(names)"
   ]
  },
  {
   "cell_type": "code",
   "execution_count": 10,
   "metadata": {},
   "outputs": [],
   "source": [
    "def pycon_div(pycon):\n",
    "    soup = get_soup(pycon)\n",
    "    schedule = soup.find(\"div\", {\"id\": \"schedule\"})\n",
    "    divs = schedule.find_all(\"div\", {\"class\": \"schedule__talk--speaker\"})\n",
    "    names = [div.text for div in divs]\n",
    "    return cleanup_names(names)"
   ]
  },
  {
   "cell_type": "code",
   "execution_count": 11,
   "metadata": {},
   "outputs": [],
   "source": [
    "def pycon_in_header(pycon):\n",
    "    soup = get_soup(pycon)\n",
    "    schedule = soup.find(\"div\", {\"class\": \"box-content\"})\n",
    "    headers = schedule.find_all(\"h4\")\n",
    "    names = [name.text.split(\" in \")[0] for name in headers if \" in \" in name.text]\n",
    "    return cleanup_names(names)"
   ]
  },
  {
   "cell_type": "code",
   "execution_count": 12,
   "metadata": {},
   "outputs": [],
   "source": [
    "def pycon_speaker(pycon):\n",
    "    soup = get_soup(pycon)\n",
    "    schedule = soup.find_all(\"span\", {\"class\": \"speaker\"})\n",
    "    names = [speaker.text.strip() for speaker in schedule]\n",
    "    return cleanup_names(names)"
   ]
  },
  {
   "cell_type": "code",
   "execution_count": 13,
   "metadata": {},
   "outputs": [],
   "source": [
    "def classify_devs(devs, country=None, debug=False):\n",
    "    gender_classes = {\n",
    "        \"andy\": \"unknown\",\n",
    "        \"male\": \"male\",\n",
    "        \"female\": \"female\",\n",
    "        \"mostly_male\": \"male\",\n",
    "        \"mostly_female\": \"female\",\n",
    "        \"unknown\": \"unknown\",\n",
    "    }\n",
    "    stats = dict()\n",
    "    for dev in devs:\n",
    "        gender = detector.get_gender(dev.split()[0], country)\n",
    "        gen = gender_classes[gender]\n",
    "        stats[gen] = stats.get(gen, 0) + 1\n",
    "        stats[\"total\"] = stats.get(\"total\", 0) + 1\n",
    "        if debug: print(f\"[{gen}] {dev}\")\n",
    "    return stats"
   ]
  },
  {
   "cell_type": "code",
   "execution_count": 14,
   "metadata": {},
   "outputs": [],
   "source": [
    "def percentage(pycon, target=\"female\"):\n",
    "    return round(pycon[target] / pycon['total'] * 100, 2)"
   ]
  },
  {
   "cell_type": "code",
   "execution_count": 15,
   "metadata": {},
   "outputs": [],
   "source": [
    "py13_es = pycon_article(\"py13_es\")\n",
    "py14_es = pycon_header(\"py14_es\")\n",
    "py15_es = pycon_ptag(\"py15_es\")\n",
    "py16_es = pycon_ptag(\"py16_es\")\n",
    "py17_es = pycon_ptag(\"py17_es\")\n",
    "py18_es = pycon_div(\"py18_es\")"
   ]
  },
  {
   "cell_type": "code",
   "execution_count": 16,
   "metadata": {},
   "outputs": [],
   "source": [
    "py13_us = pycon_in_header(\"py13_us\")\n",
    "py14_us = pycon_in_header(\"py14_us\")\n",
    "py15_us = pycon_in_header(\"py15_us\")\n",
    "py16_us = pycon_speaker(\"py16_us\")\n",
    "py17_us = pycon_speaker(\"py17_us\")\n",
    "py18_us = pycon_speaker(\"py18_us\")"
   ]
  },
  {
   "cell_type": "code",
   "execution_count": 17,
   "metadata": {},
   "outputs": [],
   "source": [
    "p13_es = classify_devs(py13_es, \"spain\")\n",
    "p14_es = classify_devs(py14_es, \"spain\")\n",
    "p15_es = classify_devs(py15_es, \"spain\")\n",
    "p16_es = classify_devs(py16_es, \"spain\")\n",
    "p17_es = classify_devs(py17_es, \"spain\")\n",
    "p18_es = classify_devs(py18_es, \"spain\")"
   ]
  },
  {
   "cell_type": "code",
   "execution_count": 18,
   "metadata": {},
   "outputs": [],
   "source": [
    "p13_us = classify_devs(py13_us)\n",
    "p14_us = classify_devs(py14_us)\n",
    "p15_us = classify_devs(py15_us)\n",
    "p16_us = classify_devs(py16_us)\n",
    "p17_us = classify_devs(py17_us)\n",
    "p18_us = classify_devs(py18_us)"
   ]
  },
  {
   "cell_type": "code",
   "execution_count": 20,
   "metadata": {},
   "outputs": [
    {
     "data": {
      "image/png": "[encoded data removed]",
      "text/plain": [
       "<matplotlib.figure.Figure at 0x7fd90fe0d6a0>"
      ]
     },
     "metadata": {
      "needs_background": "light"
     },
     "output_type": "display_data"
    }
   ],
   "source": [
    "import matplotlib.pyplot as plt\n",
    "\n",
    "year = [2013, 2014, 2015, 2016, 2017, 2018]\n",
    "es = [\n",
    "    percentage(p13_es),\n",
    "    percentage(p14_es),\n",
    "    percentage(p15_es),\n",
    "    percentage(p16_es),\n",
    "    percentage(p17_es),\n",
    "    percentage(p18_es),\n",
    "]\n",
    "us = [\n",
    "    percentage(p13_us),\n",
    "    percentage(p14_us),\n",
    "    percentage(p15_us),\n",
    "    percentage(p16_us),\n",
    "    percentage(p17_us),\n",
    "    percentage(p18_us),\n",
    "]\n",
    "\n",
    "fig = plt.figure()\n",
    "ax = plt.subplot(111)\n",
    "ax.plot(year, es, color=\"crimson\", linewidth=1, label=\"Spain\")\n",
    "ax.plot(year, us, color=\"blue\", linewidth=1, label=\"US\")\n",
    "ax.legend(loc=\"upper center\", bbox_to_anchor=(0.5, -0.1), shadow=True, ncol=2)\n",
    "# plt.plot(year, es, color=\"crimson\", linewidth=1)\n",
    "# plt.plot(year, us, color=\"blue\", linewidth=1)\n",
    "# plt.xlabel(\"Pycon\")\n",
    "plt.ylabel(\"Percentage of women speakers\")\n",
    "plt.title(\"Percentage of Women Speakers \\n PyconES vs PyconUS \\n (2013-2018)\")\n",
    "plt.show()"
   ]
  },
  {
   "cell_type": "code",
   "execution_count": null,
   "metadata": {},
   "outputs": [],
   "source": []
  }
 ],
 "metadata": {
  "kernelspec": {
   "display_name": "Python 3",
   "language": "python",
   "name": "python3"
  },
  "language_info": {
   "codemirror_mode": {
    "name": "ipython",
    "version": 3
   },
   "file_extension": ".py",
   "mimetype": "text/x-python",
   "name": "python",
   "nbconvert_exporter": "python",
   "pygments_lexer": "ipython3",
   "version": "3.6.6"
  }
 },
 "nbformat": 4,
 "nbformat_minor": 2
}
