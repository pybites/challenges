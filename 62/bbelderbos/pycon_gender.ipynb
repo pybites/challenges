{
 "cells": [
  {
   "cell_type": "code",
   "execution_count": 5,
   "metadata": {},
   "outputs": [
    {
     "name": "stdout",
     "output_type": "stream",
     "text": [
      "Collecting gender_guesser\n",
      "  Using cached https://files.pythonhosted.org/packages/13/fb/3f2aac40cd2421e164cab1668e0ca10685fcf896bd6b3671088f8aab356e/gender_guesser-0.4.0-py2.py3-none-any.whl\n",
      "Installing collected packages: gender-guesser\n",
      "Successfully installed gender-guesser-0.4.0\n"
     ]
    }
   ],
   "source": [
    "!pip install gender_guesser"
   ]
  },
  {
   "cell_type": "code",
   "execution_count": 114,
   "metadata": {},
   "outputs": [],
   "source": [
    "from collections import namedtuple, defaultdict\n",
    "import re\n",
    "\n",
    "# import requests\n",
    "from bs4 import BeautifulSoup\n",
    "import gender_guesser.detector as gender"
   ]
  },
  {
   "cell_type": "code",
   "execution_count": 13,
   "metadata": {},
   "outputs": [],
   "source": [
    "files = {int(f\"201{i}\"): f\"pycon201{i}.html\" for i in range(3,9)}"
   ]
  },
  {
   "cell_type": "code",
   "execution_count": 14,
   "metadata": {},
   "outputs": [
    {
     "data": {
      "text/plain": [
       "{2013: 'pycon2013.html',\n",
       " 2014: 'pycon2014.html',\n",
       " 2015: 'pycon2015.html',\n",
       " 2016: 'pycon2016.html',\n",
       " 2017: 'pycon2017.html',\n",
       " 2018: 'pycon2018.html'}"
      ]
     },
     "execution_count": 14,
     "metadata": {},
     "output_type": "execute_result"
    }
   ],
   "source": [
    "files"
   ]
  },
  {
   "cell_type": "markdown",
   "metadata": {},
   "source": [
    "## pycon 2013"
   ]
  },
  {
   "cell_type": "code",
   "execution_count": 139,
   "metadata": {},
   "outputs": [
    {
     "name": "stdout",
     "output_type": "stream",
     "text": [
      "45\n",
      "['Miguel Araujo', 'Mayte Giménez', 'Juan Luis Cano', 'Enrique Iglesias', 'Alberto Pérez', 'Eduardo Ferro', 'Guillermo Pascual', 'Nestor Salceda', 'Pablo Enfedaque Vidal', 'Jordi Saludes Closa', 'Esteban Montes Morales', 'Diego Sarmentero', 'Maria Antònia Tugores Pons', 'Juan B Cabral', 'Saul Diez-Guerra', 'Quique Porta', 'Guillermo Vayá Pérez', 'Alicia Lapique', 'Juan B Cabral', 'Iván Pedrazas', 'Juan Riaza', 'Diego Sarmentero', 'Saúl Ibarra Corretgé', 'CAChemE', 'Francisco J. Navarro-Brull', 'Isaías Cuenca', 'Jorge Bernabé', 'Juan Luis Cano', 'Andrey Antukh', 'Alberto Pérez', 'Eduardo Ferro', 'Guillermo Pascual', 'Nestor Salceda', 'Esteve Fernandez', 'Kiko Correoso', 'José Luis Cercós Pita', 'Miguel Araujo', 'Javier J. Gutiérrez Rodríguez', 'Jorge Bastida', 'Saul Diez-Guerra', 'Pablo Enfedaque Vidal', 'Jesús Espino García', 'Pedro Varo Herrero', 'David Arcos', 'José Ignacio Galarza']\n"
     ]
    }
   ],
   "source": [
    "with open(files[2013]) as f:\n",
    "    soup2013 = BeautifulSoup(f.read())\n",
    "    \n",
    "names_2013 = []\n",
    "for a in soup2013.find_all('a', href=True):\n",
    "    href = a['href']\n",
    "    name = a.text\n",
    "    if 'twitter.com' in href and not '/#' in href and not href.endswith('/'):\n",
    "        names_2013.append(name.strip())\n",
    "\n",
    "print(len(names_2013))\n",
    "print(names_2013)"
   ]
  },
  {
   "cell_type": "markdown",
   "metadata": {},
   "source": [
    "## pycon 2014"
   ]
  },
  {
   "cell_type": "code",
   "execution_count": 140,
   "metadata": {},
   "outputs": [
    {
     "name": "stdout",
     "output_type": "stream",
     "text": [
      "48\n",
      "['Víctor Terrón', 'David Arcos', 'Saul Diez-Guerra', 'Aitor Guevara', 'James Powell', 'Ivan Compañy', 'Lluis Esquerda', 'James Powell', 'Christine Doig', 'Mayte Gimenez', 'Angela Rivera', 'Jesús Cea', 'Jesús Espino', 'Jose A. Rocamonde', 'Toni Robres Turón', 'Miguel Angel Garcia', 'Jaime Crespo', 'Juan Riaza', 'Salvador de la Puente González', 'Miguel Angel Marco', 'Francisco Fernandez Castaño', 'Javier santana', 'CodeSyntax - Aitzol Naberan', 'Alejandro Enrique Brito Monedero', 'Guillem borrell', 'Samuel de ancos', 'Alejandro Guirao', 'Ivan Pedrazas', 'Néstor Salceda, Eduardo Ferro, Jaime Gil de Sagredo, Alberto Pérez', 'Pedro Varo Herrero', 'Cacheme', 'pybonacci', 'Javier Gutierrez', 'Fernando Salamero', 'Enrique Porta', 'Jose Luis Cercos', 'Oriol Rius', 'Miquel Camprodon e Israel Saeta', 'PyLadies', 'Jesus Espino', 'Eyad toma', 'Eduardo Ferro', 'Kiko correoso', 'Nuria pujol', 'Alejandro Gómez', 'Kiko Correoso', 'Víctor Terrón', 'Jaime Gil de Sagredo']\n"
     ]
    }
   ],
   "source": [
    "with open(files[2014]) as f:\n",
    "    soup2014 = BeautifulSoup(f.read())\n",
    "\n",
    "names_2014 = []\n",
    "for h1 in soup2014.find_all('h1'):\n",
    "    if 'text-center' in str(h1):\n",
    "        name = h1.text.strip()\n",
    "        if ' y ' in name:\n",
    "            for n in name.split(' y '):\n",
    "                names_2014.append(n)\n",
    "        else:\n",
    "            names_2014.append(name)\n",
    "        \n",
    "print(len(names_2014))\n",
    "print(names_2014)"
   ]
  },
  {
   "cell_type": "markdown",
   "metadata": {},
   "source": [
    "## pycon 2015"
   ]
  },
  {
   "cell_type": "code",
   "execution_count": 141,
   "metadata": {},
   "outputs": [
    {
     "name": "stdout",
     "output_type": "stream",
     "text": [
      "63\n",
      "['Francesc Alted', 'Joaquín del Cerro', 'Miguel Sánchez Rodríguez', 'Miguel González Nieto', 'Alejandro Vidal', 'Carlos Dorado', 'Siro Moreno', 'Anton Caceres', 'Andreu Belmonte Peña', 'Miguel Araujo', 'Christine Doig', 'Roberto Majadas Lopez', 'Jose Ignacio Galarza', 'Javier Vegas Regidor', 'Israel D. Aguilar', 'Salvador de la Puente González', 'Alberto Labarga', 'Raúl Cumplido', 'Jesús Cea', 'Alejandro Vidal', 'Guillermo Vayá Pérez', 'Jordi Soucheiron Estruch', 'Daniel Domene', 'Carlos Planelles', 'Pablo Enfedaque', 'Federico Mon', 'Israel Saeta Pérez', 'Miquel Camprodon', 'Cesar Cardenas Desales', 'Jesús Espino', 'Sergi Sorribas', 'Pablo Enfedaque', 'Imanol Cea', 'José Manuel Ortega', 'Francisco Fernández Castaño', 'Carlos Perelló Marín', 'Anton Ferré Pujol', 'Miguel Sánchez Rodríguez', 'Miguel González Nieto', 'Jose Gargallo', 'Guillem Borrell Nogueras', 'Urtzi Odriozola Lizaso', 'Miguel Araujo', 'Jose Ignacio Galarza', 'Edu Herraiz', 'Mikel Larreategi', 'Braulio Valdivielso', 'Mercè Martin', 'Alejandro Brito Monedero', 'Jesús Cea', 'Rafa Haro', 'Julio Vicente Trigo Guijarro', 'José Manuel Ortega', 'Francesc Alted', 'Juan Ignacio Rodríguez de León', 'Raúl Cumplido', 'Juan Riaza', 'Francisco Fernández Castaño', 'David Barragán Merino', 'Geoinquietos Valencia', 'David Arcos', 'Pau Freixes, Arnau Orriols', 'Pablo Galindo Salgado']\n"
     ]
    }
   ],
   "source": [
    "def get_names_from_slot_inner(year):\n",
    "    with open(files[year]) as f:\n",
    "        soup = BeautifulSoup(f.read())\n",
    "\n",
    "    names = []\n",
    "    for slot in soup.find_all(\"div\", class_=\"slot-inner\"):\n",
    "        if '<p><strong>' in str(slot):\n",
    "            name = slot.find('p').text\n",
    "            if ' y ' in name:\n",
    "                for n in name.split(' y '):\n",
    "                    names.append(n)\n",
    "            else:\n",
    "                names.append(name)\n",
    "    return names\n",
    "\n",
    "names_2015 = get_names_from_slot_inner(2015)\n",
    "print(len(names_2015))\n",
    "print(names_2015)"
   ]
  },
  {
   "cell_type": "markdown",
   "metadata": {},
   "source": [
    "## pycon 2016\n"
   ]
  },
  {
   "cell_type": "code",
   "execution_count": 142,
   "metadata": {},
   "outputs": [
    {
     "name": "stdout",
     "output_type": "stream",
     "text": [
      "75\n",
      "['Francisco Navarro-Brull, Zuria Bauer, Benjamin Laken', 'Sergi Almacellas Abellana', 'Siro Moreno', 'Andros Fenollosa', 'Jaime Gil de Sagredo, Isidro López, Alberto Pérez', 'Alvaro del Castillo San Felix', 'Carlos Dorado', 'Siro Moreno', 'Guillem Borrell Nogueras', 'Opening and Cajamar PythonHack 2016 Presentation', 'Gema Parreño', 'Jesús Espino', 'Adrián Matellanes', 'Juan Javaloyes, Fran Navarro', 'Alejadro Gómez Morón', 'Tomas Garzon Hervas', 'Uzi Halaby-Senerman', 'Agustín Herranz Cecilia', 'Ivan Pedrazas', 'Antònia Tugores', 'Jose Maria Alvarez Rey', 'Roberto Majadas Lopez', 'Robert Figiel', 'Daniel García Moreno', 'José Manuel Rivas García', 'Juan Diego Godoy Robles', 'Mario Corchero', 'Héctor Pablos López', 'Federico Mon', 'Israel Blancas Álvarez', 'Andros Fenollosa', 'Siro Moreno', 'Juan Rodríguez Monti', 'David Arcos', 'Zuria Bauer Hartwig', 'ANTONI ALOY', 'Miguel Sánchez de León Peque', 'Victor Suarez Garcia', 'Daniel Domene', 'Carlos Planelles', 'Miguel Sánchez de León Peque', 'Adolfo Rosillo', 'resto del equipo de #ThePymientoProject', 'Jesús Cea', 'Jorge Coronado', 'Rubén Crespo Cano', 'Javi Romero', 'José Manuel Ortega', 'Carlos Perales González', 'Alicia Pérez', 'Jesús Marín', 'Claudia Guirao', 'Miquel Camprodon', 'Pablo Galindo', 'Víctor Terron', 'Cristóbal Contreras Rubio', 'Guillem Duran Ballester', 'César García Tapia', 'Israel Saeta Pérez', 'Juan Rodríguez Monti', 'Jesús Cea', 'J. Diego Hueltes Vega', 'Participantes PythonHack 2016', 'curiosos', 'Sergi Almacellas Abellana', 'Manuel Garrido Peña', 'Guillem Borrell Nogueras', 'Alberto Fernández Valiente', 'Javier Sujar Rodríguez', 'Jose Sabater Montes', 'Jose Maria Alvarez Rey', 'Daniel Domene', 'Carlos Planelles', 'Javier Abadía Miranda', 'Manuel Kaufmann']\n"
     ]
    }
   ],
   "source": [
    "names_2016 = get_names_from_slot_inner(2016)\n",
    "print(len(names_2016))\n",
    "print(names_2016)"
   ]
  },
  {
   "cell_type": "markdown",
   "metadata": {},
   "source": [
    "## pycon 2017"
   ]
  },
  {
   "cell_type": "code",
   "execution_count": 143,
   "metadata": {},
   "outputs": [
    {
     "name": "stdout",
     "output_type": "stream",
     "text": [
      "66\n",
      "['Irene Pérez Encinar, Javier Torres Niño', 'Pablo Galindo', 'Andros Fenollosa Hurtado', 'Gema Parreño, Santiago Saavedra', 'Alejandro Gómez Morón, Ignacio González Bullón, Pablo Iglesias', 'José Manuel Rivas García', 'Juan Aragón', 'David Saltares', 'Opening', 'Diego Muñoz', 'Antònia Tugores', 'Oscar Ramírez', 'Javi Romero', 'Rodrigo Cabello', 'Javier Torres Niño', 'Miguel Jiménez', 'Ricardo Guerrero Gómez-Olmedo', 'Luis Mesas', 'Miguel González Álvarez', 'J.C. González-Avella', 'J. M. Tuduri', 'Jose Luis Cercos-Pita', 'Álvaro León', 'Valery Calderón Briz', 'Jose Miguel Leiva Murillo', 'Roberto Majadas', 'Manuel Zaforas', 'Naomi Ceder', 'Alberto Fernandez Valiente', 'Roberto Abdelkader Martínez Pérez', 'Antonio Hidalgo, Juan Luis Cano', 'Alicia Pérez, Javier Abadía', 'Adrián Matellanes', 'Siro Moreno', 'Pablo Galindo Salgado and Victor Terrón', 'Beatriz González', 'Santiago Saavedra', 'José Javier Merchante', 'Andrés Rojano Ruiz', 'Jose Manuel Ortega', 'David Saltares', 'Andy Almonte', 'Juan Diego Godoy Robles', 'Jorge Coronado', 'Ana López Pérez, Víctor Muñoz Berti', 'Jara Ramos', 'Ivan Robles', 'José Antonio Perdiguero', 'Yamila Moreno', 'Javier Arias', 'Braulio Vargas López, Marta Gómez Macías', 'Alicia Pérez', 'Daniel Izquierdo', 'Víctor Muñoz Berti', 'Héctor Pablos López', 'Maite Giménez', 'Andreu Vallbona Plazas', 'Javier Abadía', 'Justyna Kałużka', '\\u200bJuan Francisco Huete Verdejo', 'Javier Aceituno Lapido', 'Dario\\xa0Varotto, Diego\\xa0Hueltes', 'Eyad Tomeh', 'Alejandro León', 'Alejandro Guirao', 'Closing']\n"
     ]
    }
   ],
   "source": [
    "names_2017 = get_names_from_slot_inner(2017)\n",
    "print(len(names_2017))\n",
    "print(names_2017)"
   ]
  },
  {
   "cell_type": "markdown",
   "metadata": {},
   "source": [
    "## pycon 2018"
   ]
  },
  {
   "cell_type": "code",
   "execution_count": 144,
   "metadata": {},
   "outputs": [
    {
     "name": "stdout",
     "output_type": "stream",
     "text": [
      "61\n",
      "['Francisco Correoso,  Guillem Duran,  Juan Carlos González,  Jordi Contestí,  Antònia Tugores', 'Raúl VillaresAlberto de la Cruz', 'Sara Rodríguez López', 'Miguel Sánchez de León Peque', 'Víctor Muñoz', 'Alba Carrero,  Juan Javaloyes, Daniel Vázquez ', 'Claudia Guirao Fernández', 'Federico Mon', 'Álvaro León Santiago', 'Rafa Haro', 'Fernando Rabanal', 'Agustín Herranz Cecilia', 'Zuria Bauer', 'Sara Iris García Avila', 'Andreu Vallbona', 'Rafael Castillo Alcibar', 'Teresa de la Torre', 'Francisco José Fernández Naranjo', 'Guillem Duran Ballester', 'Maribel Tirados Gómez', 'Unai', 'Antonio Vilches', 'Xavier Gil Estarellas', 'Héctor Canto', 'Eulàlia Veny', 'José Antonio Perdiguero', 'Javier Torres Niño', 'Oscar Ramirez Victoria Caparros', 'Pablo Galindo Salgado', 'Irene Pérez Encinar', 'María Medina', 'Andrew Godwin', 'Víctor Terrón', 'Elena Abril Medina', 'Sara Rodríguez López', 'David Barragán Merino', 'Carlos Perales', 'Esteban Dorado Roldan', 'Mario Corchero', 'Alicia PérezJavier Ordóñez', 'Mar Bartolomé', 'Jose Manuel Ortega', 'Pedro Morales Enrique Colin', 'Jérôme Basdevant José Manuel Martínez Martínez', 'Mario Bartolome Manovel', 'Ale Solano', 'Jesús Cea Avión', 'Carlos Alberto Gomez Gonzalez', 'Pablo Vargas Ibarra', 'Maite Giménez', 'Maria Camila Remolina-Gutiérrez', 'Rubén Crespo Cano', 'Salvador de la Puente González', 'Josema Camacho,  Alberto Asuero,  Cayetano Benavent', 'Pablo GalindoVictor Terrón', 'Marta Rivera Alba', 'Daniel Domene López', 'Martina Kienberger', 'Gloria Passarello', 'Victor Vicente Palacios', 'David Núñez']\n"
     ]
    }
   ],
   "source": [
    "with open(files[2018]) as f:\n",
    "    soup2018 = BeautifulSoup(f.read())\n",
    "\n",
    "names_2018 = []\n",
    "for div in soup2018.find_all(\"div\", class_=\"schedule__talk--speaker\"):\n",
    "    name = div.find('p').text\n",
    "    names_2018.append(name)\n",
    "        \n",
    "print(len(names_2018))\n",
    "print(names_2018)"
   ]
  },
  {
   "cell_type": "code",
   "execution_count": 145,
   "metadata": {},
   "outputs": [],
   "source": [
    "d = gender.Detector()"
   ]
  },
  {
   "cell_type": "code",
   "execution_count": 146,
   "metadata": {},
   "outputs": [
    {
     "data": {
      "text/plain": [
       "'female'"
      ]
     },
     "execution_count": 146,
     "metadata": {},
     "output_type": "execute_result"
    }
   ],
   "source": [
    "d.get_gender('Rafa')"
   ]
  },
  {
   "cell_type": "code",
   "execution_count": 147,
   "metadata": {},
   "outputs": [
    {
     "name": "stdout",
     "output_type": "stream",
     "text": [
      "2013 45 3 => Mayte, Maria, Alicia\n",
      "2014 48 4 => Christine, Mayte, Angela, Nuria\n",
      "2015 63 3 => Christine, Mercè, Rafa\n",
      "2016 75 3 => Gema, Alicia, Claudia\n",
      "2017 66 10 => Irene, Gema, Naomi, Alicia, Beatriz, Ana, Jara, Alicia, Maite, Justyna\n",
      "2018 61 18 => Sara, Alba, Claudia, Rafa, Sara, Teresa, Maribel, Irene, María, Elena, Sara, Alicia, Mar, Maite, Maria, Marta, Martina, Gloria\n"
     ]
    }
   ],
   "source": [
    "def _get_name_and_gender(names, dups=True):\n",
    "    if not dups:\n",
    "        names = set(names)\n",
    "    names = [n.split()[0] for n in names]\n",
    "    return [(n, d.get_gender(n)) for n in names]\n",
    "\n",
    "all_names = {}\n",
    "\n",
    "for year in range(2013, 2019):\n",
    "    names_for_year = locals()[f'names_{year}']\n",
    "    all_names[year] = _get_name_and_gender(names_for_year)\n",
    "    \n",
    "from pprint import pprint as pp\n",
    "\n",
    "#pp(all_names)\n",
    "\n",
    "for year, speakers in all_names.items():\n",
    "    print(year, len(speakers), len([s for s in speakers if 'female' in s[1]]),\n",
    "          '=>', ', '.join([s[0] for s in speakers if 'female' in s[1]]))"
   ]
  },
  {
   "cell_type": "code",
   "execution_count": 149,
   "metadata": {},
   "outputs": [
    {
     "name": "stdout",
     "output_type": "stream",
     "text": [
      "male 257\n",
      "female 40\n",
      "unknown 37\n",
      "mostly_male 23\n",
      "mostly_female 1\n",
      "\n",
      "unkown\n",
      "['ANTONI', 'Alejadro', 'Andros', 'Andros', 'Andros', 'Antònia', 'Antònia', 'CAChemE', 'Cacheme', 'Closing', 'CodeSyntax', 'Edu', 'Esteve', 'Eulàlia', 'Geoinquietos', 'J.', 'J.', 'J.C.', 'Javi', 'Javi', 'Josema', 'Kiko', 'Kiko', 'Kiko', 'Néstor', 'Opening', 'Opening', 'Participantes', 'PyLadies', 'Saúl', 'Yamila', 'Zuria', 'Zuria', 'curiosos', 'pybonacci', 'resto', '\\u200bJuan']\n"
     ]
    }
   ],
   "source": [
    "gender_types = defaultdict(list)\n",
    "for _, speakers in all_names.items():\n",
    "    for s in speakers:\n",
    "        gender_types[s[1]].append(s[0])\n",
    "\n",
    "for k, v in gender_types.items():\n",
    "    print(k, len(v))\n",
    "print()\n",
    "print('unkown')\n",
    "print(sorted(gender_types['unknown']))"
   ]
  },
  {
   "cell_type": "code",
   "execution_count": 150,
   "metadata": {},
   "outputs": [],
   "source": [
    "Stats = namedtuple('Stats', 'speakers women percentage')    "
   ]
  },
  {
   "cell_type": "code",
   "execution_count": 151,
   "metadata": {
    "scrolled": true
   },
   "outputs": [
    {
     "name": "stdout",
     "output_type": "stream",
     "text": [
      "{2013: Stats(speakers=45, women=3, percentage=6.67),\n",
      " 2014: Stats(speakers=48, women=4, percentage=8.33),\n",
      " 2015: Stats(speakers=63, women=3, percentage=4.76),\n",
      " 2016: Stats(speakers=75, women=3, percentage=4.0),\n",
      " 2017: Stats(speakers=66, women=10, percentage=15.15),\n",
      " 2018: Stats(speakers=61, women=18, percentage=29.51)}\n"
     ]
    },
    {
     "data": {
      "text/plain": [
       "{2013: 6.67, 2014: 8.33, 2015: 4.76, 2016: 4.0, 2017: 15.15, 2018: 29.51}"
      ]
     },
     "execution_count": 151,
     "metadata": {},
     "output_type": "execute_result"
    }
   ],
   "source": [
    "result = {}  # 3.7 order should be intact\n",
    "percentages = {}\n",
    "for year, speakers in all_names.items():\n",
    "    num_speakers = len(speakers)\n",
    "    num_women = len([s for s in speakers if 'female' in s[1]])\n",
    "    perc = round(num_women/num_speakers*100, 2)\n",
    "    \n",
    "    result[year] = Stats(\n",
    "        speakers=num_speakers,\n",
    "        women=num_women,\n",
    "        percentage=perc\n",
    "    )\n",
    "    percentages[year] = perc\n",
    "\n",
    "pp(result)\n",
    "\n",
    "percentages"
   ]
  },
  {
   "cell_type": "code",
   "execution_count": 152,
   "metadata": {},
   "outputs": [
    {
     "data": {
      "image/png": "[encoded data removed]",
      "text/plain": [
       "<Figure size 432x288 with 1 Axes>"
      ]
     },
     "metadata": {
      "needs_background": "light"
     },
     "output_type": "display_data"
    }
   ],
   "source": [
    "import matplotlib.pylab as plt\n",
    "# https://stackoverflow.com/a/37266356\n",
    "lists = sorted(percentages.items())\n",
    "x, y = zip(*lists)\n",
    "plt.plot(x, y)\n",
    "plt.show()"
   ]
  },
  {
   "cell_type": "code",
   "execution_count": null,
   "metadata": {},
   "outputs": [],
   "source": []
  },
  {
   "cell_type": "code",
   "execution_count": null,
   "metadata": {},
   "outputs": [],
   "source": []
  },
  {
   "cell_type": "code",
   "execution_count": null,
   "metadata": {},
   "outputs": [],
   "source": []
  }
 ],
 "metadata": {
  "kernelspec": {
   "display_name": "Python 3",
   "language": "python",
   "name": "python3"
  },
  "language_info": {
   "codemirror_mode": {
    "name": "ipython",
    "version": 3
   },
   "file_extension": ".py",
   "mimetype": "text/x-python",
   "name": "python",
   "nbconvert_exporter": "python",
   "pygments_lexer": "ipython3",
   "version": "3.7.1"
  }
 },
 "nbformat": 4,
 "nbformat_minor": 2
}
