{
 "cells": [
  {
   "cell_type": "markdown",
   "metadata": {},
   "source": [
    "# Pybites Community Branch Activity"
   ]
  },
  {
   "cell_type": "markdown",
   "metadata": {},
   "source": [
    "I wanted to play around with a dataset and see what I could find out about it. I decided on analyzing the little bit of data that I could collect from Github without having to use an OAuth key, which limits it to just 300 events."
   ]
  },
  {
   "cell_type": "markdown",
   "metadata": {},
   "source": [
    "## To Run All of The Cells\n",
    "You have the option of running each of the cells one at a time or you can just run them all in sequential order. Selecting a cell and either clicking on the **Run** button on the menu or using the key combination **Shift+Enter** will run the code in that cell if its code.\n",
    "\n",
    "To run them all you will have to use the menu: ***Cell > Run All***"
   ]
  },
  {
   "cell_type": "code",
   "execution_count": 1,
   "metadata": {},
   "outputs": [],
   "source": [
    "import json\n",
    "from collections import Counter\n",
    "from pathlib import Path\n",
    "\n",
    "import matplotlib.patches as mpatches\n",
    "import matplotlib.pyplot as plt\n",
    "import numpy as np\n",
    "import pandas as pd\n",
    "import requests\n",
    "import seaborn as sns\n",
    "from dateutil.parser import parse\n",
    "from matplotlib import rc\n",
    "from matplotlib.pyplot import figure"
   ]
  },
  {
   "cell_type": "code",
   "execution_count": 2,
   "metadata": {},
   "outputs": [],
   "source": [
    "data_location = Path.cwd().joinpath(\"data\")"
   ]
  },
  {
   "cell_type": "markdown",
   "metadata": {},
   "source": [
    "## Retrieving and Importing the Data"
   ]
  },
  {
   "cell_type": "markdown",
   "metadata": {},
   "source": [
    "The following code will load the three event json files in the data directory if the data directory exists. If the direcotry is not found it will be created and the files will be pulled down from Github and then loaded into memory."
   ]
  },
  {
   "cell_type": "code",
   "execution_count": 3,
   "metadata": {},
   "outputs": [],
   "source": [
    "def retrieve_data():\n",
    "    if not data_location.exists():\n",
    "        data_location.mkdir()\n",
    "    url = \"https://api.github.com/repos/pybites/challenges/events?page={}&per_page=100\"\n",
    "    for page in range(1, 4):\n",
    "        response = requests.get(url.format(page))\n",
    "        if response.ok:\n",
    "            file_name = data_location.joinpath(f\"events{page}.json\")\n",
    "            try:\n",
    "                file_name.write_text(json.dumps(response.json()))\n",
    "                print(f\"  Created: {file_name.name}\")\n",
    "            except Exception as e:\n",
    "                print(e)\n",
    "        else:\n",
    "            print(f\"Something went wrong: [response.status_code]: {response.reason}\")\n",
    "\n",
    "\n",
    "def load_data():\n",
    "    if data_location.exists():\n",
    "        for page in range(1, 4):\n",
    "            file_name = data_location.joinpath(f\"events{page}.json\")\n",
    "            events.extend(json.loads(file_name.read_text()))\n",
    "            print(f\"  Loaded: {file_name.name}\")\n",
    "    else:\n",
    "        print(\"Data directory was not found:\")\n",
    "        retrieve_data()\n",
    "        load_data()"
   ]
  },
  {
   "cell_type": "markdown",
   "metadata": {},
   "source": [
    "> NOTE: If you want to work with the latest data, just remove the data directory and all its contents to have it pulled down once again."
   ]
  },
  {
   "cell_type": "code",
   "execution_count": 4,
   "metadata": {},
   "outputs": [
    {
     "name": "stdout",
     "output_type": "stream",
     "text": [
      "  Loaded: events1.json\n",
      "  Loaded: events2.json\n",
      "  Loaded: events3.json\n",
      "Total Events Loaded: 300\n"
     ]
    }
   ],
   "source": [
    "events = []\n",
    "load_data()\n",
    "print(f\"Total Events Loaded: {len(events)}\")"
   ]
  },
  {
   "cell_type": "markdown",
   "metadata": {},
   "source": [
    "## Parsing the Data"
   ]
  },
  {
   "cell_type": "markdown",
   "metadata": {},
   "source": [
    "From what I hear, we should just get used to cleaning data up before we can use it and its no exception here. I'm interested in exploring a few key points from the data. Mostly I'm interested in the following:\n",
    "\n",
    "* Pull Request Events\n",
    "* Data that they were created\n",
    "* The username of the developer\n",
    "* The amount of time spent on the challenge\n",
    "* How difficult they found the challenge to be"
   ]
  },
  {
   "cell_type": "code",
   "execution_count": 5,
   "metadata": {},
   "outputs": [],
   "source": [
    "# helper function\n",
    "def parse_data(line):\n",
    "    if '[' in line:\n",
    "        data = line.split(': [')[1].replace(']', '').strip()\n",
    "    else:\n",
    "        data = line.split(': ')[1].strip()\n",
    "    return data\n",
    "\n",
    "\n",
    "# list to store the data\n",
    "created = []\n",
    "devs = []\n",
    "dev_ids = []\n",
    "diff_levels = []\n",
    "time_spent = []\n",
    "\n",
    "for event in events:\n",
    "    # only insterested in pull request events\n",
    "    if event['type'] == 'PullRequestEvent':\n",
    "        # developer username\n",
    "        dev = event['actor']['login']\n",
    "        dev_id = event['actor']['id']\n",
    "        # ignore pybites ;)\n",
    "        if dev != 'pybites':\n",
    "            # store developer username and use the id for privacy\n",
    "            devs.append(dev)\n",
    "            dev_ids.append(dev_id)\n",
    "            # store the date\n",
    "            created.append(event['created_at'].split('T')[0])\n",
    "            # parse comment from user for data\n",
    "            comment = event['payload']['pull_request']['body']\n",
    "            for line in comment.split('\\n'):\n",
    "                # get difficulty level and time spent\n",
    "                if 'Difficulty level (1-10):' in line:\n",
    "                    diff = parse_data(line)\n",
    "                elif 'Estimated time spent (hours):' in line:\n",
    "                    spent = parse_data(line)\n",
    "            # pandas DataFrames require that all columns are the same length\n",
    "            # so if we have a missing value, None is used in its place\n",
    "            if diff:\n",
    "                diff_levels.append(int(diff))\n",
    "            else:\n",
    "                diff_levels.append(None)\n",
    "            if spent:\n",
    "                time_spent.append(int(spent))\n",
    "            else:\n",
    "                time_spent.append(None)"
   ]
  },
  {
   "cell_type": "markdown",
   "metadata": {},
   "source": [
    "## Creating The DataFrame"
   ]
  },
  {
   "cell_type": "markdown",
   "metadata": {},
   "source": [
    "Now that we have the lists with the data that we parsed, a DataFrame can be created with them."
   ]
  },
  {
   "cell_type": "code",
   "execution_count": 6,
   "metadata": {
    "scrolled": true
   },
   "outputs": [],
   "source": [
    "df = pd.DataFrame({\n",
    "    'Developers': dev_ids, \n",
    "    'Difficulty_Levels': diff_levels, \n",
    "    'Time_Spent': time_spent,\n",
    "    'Date': created,\n",
    "})"
   ]
  },
  {
   "cell_type": "markdown",
   "metadata": {},
   "source": [
    "## Data Exploration"
   ]
  },
  {
   "cell_type": "markdown",
   "metadata": {},
   "source": [
    "Here, we can start exploring the data. To take a quick peek at how it's looking, there is no better choice then to use `head()`."
   ]
  },
  {
   "cell_type": "code",
   "execution_count": 7,
   "metadata": {},
   "outputs": [
    {
     "data": {
      "text/html": [
       "<div>\n",
       "<style scoped>\n",
       "    .dataframe tbody tr th:only-of-type {\n",
       "        vertical-align: middle;\n",
       "    }\n",
       "\n",
       "    .dataframe tbody tr th {\n",
       "        vertical-align: top;\n",
       "    }\n",
       "\n",
       "    .dataframe thead th {\n",
       "        text-align: right;\n",
       "    }\n",
       "</style>\n",
       "<table border=\"1\" class=\"dataframe\">\n",
       "  <thead>\n",
       "    <tr style=\"text-align: right;\">\n",
       "      <th></th>\n",
       "      <th>Developers</th>\n",
       "      <th>Difficulty_Levels</th>\n",
       "      <th>Time_Spent</th>\n",
       "      <th>Date</th>\n",
       "    </tr>\n",
       "  </thead>\n",
       "  <tbody>\n",
       "    <tr>\n",
       "      <th>0</th>\n",
       "      <td>16877140</td>\n",
       "      <td>5.0</td>\n",
       "      <td>8.0</td>\n",
       "      <td>2018-10-19</td>\n",
       "    </tr>\n",
       "    <tr>\n",
       "      <th>1</th>\n",
       "      <td>38558860</td>\n",
       "      <td>3.0</td>\n",
       "      <td>3.0</td>\n",
       "      <td>2018-10-19</td>\n",
       "    </tr>\n",
       "    <tr>\n",
       "      <th>2</th>\n",
       "      <td>15842536</td>\n",
       "      <td>2.0</td>\n",
       "      <td>1.0</td>\n",
       "      <td>2018-10-18</td>\n",
       "    </tr>\n",
       "    <tr>\n",
       "      <th>3</th>\n",
       "      <td>969189</td>\n",
       "      <td>5.0</td>\n",
       "      <td>4.0</td>\n",
       "      <td>2018-10-17</td>\n",
       "    </tr>\n",
       "    <tr>\n",
       "      <th>4</th>\n",
       "      <td>7138575</td>\n",
       "      <td>5.0</td>\n",
       "      <td>4.0</td>\n",
       "      <td>2018-10-17</td>\n",
       "    </tr>\n",
       "  </tbody>\n",
       "</table>\n",
       "</div>"
      ],
      "text/plain": [
       "   Developers  Difficulty_Levels  Time_Spent        Date\n",
       "0    16877140                5.0         8.0  2018-10-19\n",
       "1    38558860                3.0         3.0  2018-10-19\n",
       "2    15842536                2.0         1.0  2018-10-18\n",
       "3      969189                5.0         4.0  2018-10-17\n",
       "4     7138575                5.0         4.0  2018-10-17"
      ]
     },
     "execution_count": 7,
     "metadata": {},
     "output_type": "execute_result"
    }
   ],
   "source": [
    "df.head()"
   ]
  },
  {
   "cell_type": "markdown",
   "metadata": {},
   "source": [
    "To get some quick statistacaly metrics on the dataset, `describe()` can be used."
   ]
  },
  {
   "cell_type": "code",
   "execution_count": 8,
   "metadata": {},
   "outputs": [
    {
     "data": {
      "text/html": [
       "<div>\n",
       "<style scoped>\n",
       "    .dataframe tbody tr th:only-of-type {\n",
       "        vertical-align: middle;\n",
       "    }\n",
       "\n",
       "    .dataframe tbody tr th {\n",
       "        vertical-align: top;\n",
       "    }\n",
       "\n",
       "    .dataframe thead th {\n",
       "        text-align: right;\n",
       "    }\n",
       "</style>\n",
       "<table border=\"1\" class=\"dataframe\">\n",
       "  <thead>\n",
       "    <tr style=\"text-align: right;\">\n",
       "      <th></th>\n",
       "      <th>Developers</th>\n",
       "      <th>Difficulty_Levels</th>\n",
       "      <th>Time_Spent</th>\n",
       "    </tr>\n",
       "  </thead>\n",
       "  <tbody>\n",
       "    <tr>\n",
       "      <th>count</th>\n",
       "      <td>4.600000e+01</td>\n",
       "      <td>40.000000</td>\n",
       "      <td>40.000000</td>\n",
       "    </tr>\n",
       "    <tr>\n",
       "      <th>mean</th>\n",
       "      <td>1.447647e+07</td>\n",
       "      <td>3.725000</td>\n",
       "      <td>3.500000</td>\n",
       "    </tr>\n",
       "    <tr>\n",
       "      <th>std</th>\n",
       "      <td>1.382362e+07</td>\n",
       "      <td>1.601081</td>\n",
       "      <td>3.411895</td>\n",
       "    </tr>\n",
       "    <tr>\n",
       "      <th>min</th>\n",
       "      <td>2.531750e+05</td>\n",
       "      <td>1.000000</td>\n",
       "      <td>1.000000</td>\n",
       "    </tr>\n",
       "    <tr>\n",
       "      <th>25%</th>\n",
       "      <td>3.473518e+06</td>\n",
       "      <td>2.000000</td>\n",
       "      <td>1.000000</td>\n",
       "    </tr>\n",
       "    <tr>\n",
       "      <th>50%</th>\n",
       "      <td>7.138575e+06</td>\n",
       "      <td>4.000000</td>\n",
       "      <td>3.000000</td>\n",
       "    </tr>\n",
       "    <tr>\n",
       "      <th>75%</th>\n",
       "      <td>2.021234e+07</td>\n",
       "      <td>4.250000</td>\n",
       "      <td>4.000000</td>\n",
       "    </tr>\n",
       "    <tr>\n",
       "      <th>max</th>\n",
       "      <td>4.140364e+07</td>\n",
       "      <td>8.000000</td>\n",
       "      <td>20.000000</td>\n",
       "    </tr>\n",
       "  </tbody>\n",
       "</table>\n",
       "</div>"
      ],
      "text/plain": [
       "         Developers  Difficulty_Levels  Time_Spent\n",
       "count  4.600000e+01          40.000000   40.000000\n",
       "mean   1.447647e+07           3.725000    3.500000\n",
       "std    1.382362e+07           1.601081    3.411895\n",
       "min    2.531750e+05           1.000000    1.000000\n",
       "25%    3.473518e+06           2.000000    1.000000\n",
       "50%    7.138575e+06           4.000000    3.000000\n",
       "75%    2.021234e+07           4.250000    4.000000\n",
       "max    4.140364e+07           8.000000   20.000000"
      ]
     },
     "execution_count": 8,
     "metadata": {},
     "output_type": "execute_result"
    }
   ],
   "source": [
    "df.describe()"
   ]
  },
  {
   "cell_type": "markdown",
   "metadata": {},
   "source": [
    "As you can see, sometimes the data isn't handled right, like the user id. Based on what I could see above, I Wanted to get a feel for the following portions. I can see the average difficulty level above, next to the *50%*, but I also wanted to show you how to pull that out individually."
   ]
  },
  {
   "cell_type": "code",
   "execution_count": 9,
   "metadata": {},
   "outputs": [
    {
     "name": "stdout",
     "output_type": "stream",
     "text": [
      "Developers: 46\n",
      "Average Difficulty: 4.0\n",
      "Time Spent: 140.0\n"
     ]
    }
   ],
   "source": [
    "print(f'Developers: {len(df[\"Developers\"])}')\n",
    "print(f'Average Difficulty: {df[\"Difficulty_Levels\"].median()}')\n",
    "print(f'Time Spent: {df[\"Time_Spent\"].sum()}')"
   ]
  },
  {
   "cell_type": "markdown",
   "metadata": {},
   "source": [
    "The following Counters are just me exploring the data even further."
   ]
  },
  {
   "cell_type": "code",
   "execution_count": 10,
   "metadata": {},
   "outputs": [
    {
     "data": {
      "text/plain": [
       "[(7138575, 8),\n",
       " (38558860, 7),\n",
       " (253175, 5),\n",
       " (969189, 3),\n",
       " (387927, 3),\n",
       " (16894718, 3)]"
      ]
     },
     "execution_count": 10,
     "metadata": {},
     "output_type": "execute_result"
    }
   ],
   "source": [
    "developers = Counter(df['Developers']).most_common(6)\n",
    "developers"
   ]
  },
  {
   "cell_type": "code",
   "execution_count": 11,
   "metadata": {},
   "outputs": [
    {
     "data": {
      "text/plain": [
       "[(4.0, 13), (2.0, 9), (3.0, 6), (6.0, 6), (5.0, 3), (1.0, 2), (8.0, 1)]"
      ]
     },
     "execution_count": 11,
     "metadata": {},
     "output_type": "execute_result"
    }
   ],
   "source": [
    "bite_difficulty = Counter(df['Difficulty_Levels'].dropna()).most_common()\n",
    "bite_difficulty"
   ]
  },
  {
   "cell_type": "code",
   "execution_count": 12,
   "metadata": {},
   "outputs": [
    {
     "data": {
      "text/plain": [
       "[(1.0, 11),\n",
       " (2.0, 8),\n",
       " (3.0, 7),\n",
       " (4.0, 6),\n",
       " (8.0, 4),\n",
       " (5.0, 2),\n",
       " (20.0, 1),\n",
       " (6.0, 1)]"
      ]
     },
     "execution_count": 12,
     "metadata": {},
     "output_type": "execute_result"
    }
   ],
   "source": [
    "bite_duration = Counter(df['Time_Spent'].dropna()).most_common()\n",
    "bite_duration"
   ]
  },
  {
   "cell_type": "code",
   "execution_count": 13,
   "metadata": {},
   "outputs": [
    {
     "data": {
      "text/plain": [
       "[('2018-10-04', 2),\n",
       " ('2018-10-05', 8),\n",
       " ('2018-10-07', 7),\n",
       " ('2018-10-08', 4),\n",
       " ('2018-10-09', 2),\n",
       " ('2018-10-10', 1),\n",
       " ('2018-10-11', 1),\n",
       " ('2018-10-12', 4),\n",
       " ('2018-10-13', 3),\n",
       " ('2018-10-14', 3),\n",
       " ('2018-10-15', 3),\n",
       " ('2018-10-16', 2),\n",
       " ('2018-10-17', 3),\n",
       " ('2018-10-18', 1),\n",
       " ('2018-10-19', 2)]"
      ]
     },
     "execution_count": 13,
     "metadata": {},
     "output_type": "execute_result"
    }
   ],
   "source": [
    "created_at = sorted(Counter(df['Date'].dropna()).most_common())\n",
    "created_at"
   ]
  },
  {
   "cell_type": "markdown",
   "metadata": {},
   "source": [
    "Hmm, how many days are we looking at?"
   ]
  },
  {
   "cell_type": "code",
   "execution_count": 14,
   "metadata": {},
   "outputs": [
    {
     "data": {
      "text/plain": [
       "15"
      ]
     },
     "execution_count": 14,
     "metadata": {},
     "output_type": "execute_result"
    }
   ],
   "source": [
    "len(created_at)"
   ]
  },
  {
   "cell_type": "markdown",
   "metadata": {},
   "source": [
    "Who's got the most recent activity?"
   ]
  },
  {
   "cell_type": "code",
   "execution_count": 15,
   "metadata": {},
   "outputs": [
    {
     "data": {
      "text/plain": [
       "('clamytoe', 8)"
      ]
     },
     "execution_count": 15,
     "metadata": {},
     "output_type": "execute_result"
    }
   ],
   "source": [
    "top_ninja = Counter(devs).most_common(1)[0]\n",
    "top_ninja"
   ]
  },
  {
   "cell_type": "markdown",
   "metadata": {},
   "source": [
    "## Time To Get Down To Business\n",
    "Now that we've loaded our data and cleaned it up, lets see what it can tell us."
   ]
  },
  {
   "cell_type": "markdown",
   "metadata": {},
   "source": [
    "### Number of Pull Request per Day"
   ]
  },
  {
   "cell_type": "markdown",
   "metadata": {},
   "source": [
    "Pretty amazing that [Pybites Blog Challenges](https://codechalleng.es/challenges/) had over **300** distinct github interactions in such a short time!"
   ]
  },
  {
   "cell_type": "code",
   "execution_count": 16,
   "metadata": {},
   "outputs": [
    {
     "data": {
      "image/png": "[encoded data removed]",
      "text/plain": [
       "<Figure size 480x480 with 1 Axes>"
      ]
     },
     "metadata": {},
     "output_type": "display_data"
    }
   ],
   "source": [
    "# resize graph\n",
    "figure(num=None, figsize=(6, 6), dpi=80, facecolor='w', edgecolor='k')\n",
    "\n",
    "# gather data into a custom DataFrame\n",
    "dates = [day[0] for day in created_at]\n",
    "prs = [pr[1] for pr in created_at]\n",
    "df_prs = pd.DataFrame({'xvalues': dates, 'yvalues': prs})\n",
    " \n",
    "# plot\n",
    "plt.plot('xvalues', 'yvalues', data=df_prs)\n",
    "\n",
    "# labels\n",
    "plt.xticks(rotation='vertical', fontweight='bold')\n",
    "\n",
    "# title\n",
    "plt.title('Number of Pull Request per Day')\n",
    "\n",
    "# show the graphic\n",
    "plt.show()"
   ]
  },
  {
   "cell_type": "markdown",
   "metadata": {},
   "source": [
    "### Top Blog Challenge Ninjas"
   ]
  },
  {
   "cell_type": "markdown",
   "metadata": {},
   "source": [
    "Although there are many more contributors, I had to limit the count so that the data would be easier to visualize."
   ]
  },
  {
   "cell_type": "code",
   "execution_count": 17,
   "metadata": {},
   "outputs": [
    {
     "data": {
      "image/png": "[encoded data removed]",
      "text/plain": [
       "<Figure size 480x480 with 1 Axes>"
      ]
     },
     "metadata": {},
     "output_type": "display_data"
    }
   ],
   "source": [
    "# resize graph\n",
    "figure(num=None, figsize=(6, 6), dpi=80, facecolor='w', edgecolor='k')\n",
    "\n",
    "# create labels\n",
    "labels = [dev[0] for dev in developers]\n",
    "labels[0] = top_ninja[0]\n",
    "\n",
    "# get a count of the pull requests\n",
    "prs = [dev[1] for dev in developers]\n",
    "\n",
    "# pull out top ninja slice\n",
    "explode = [0] * len(developers)\n",
    "explode[0] = 0.1\n",
    "\n",
    "# create the pie chart\n",
    "plt.pie(prs, explode=explode, labels=labels, shadow=True, startangle=90)\n",
    "\n",
    "# add title and center\n",
    "plt.axis('equal')\n",
    "plt.title('Top Blog Challenge Ninjas')\n",
    "\n",
    "# show the graphic\n",
    "plt.show()"
   ]
  },
  {
   "cell_type": "markdown",
   "metadata": {},
   "source": [
    "### Time Spent vs Difficulty Level per Pull Request"
   ]
  },
  {
   "cell_type": "markdown",
   "metadata": {},
   "source": [
    "Finally I wanted to explore what the relation between time spent per PR vs how difficult the develop found the challenge to be."
   ]
  },
  {
   "cell_type": "code",
   "execution_count": 18,
   "metadata": {},
   "outputs": [
    {
     "data": {
      "image/png": "[encoded data removed]",
      "text/plain": [
       "<Figure size 1200x480 with 1 Axes>"
      ]
     },
     "metadata": {},
     "output_type": "display_data"
    }
   ],
   "source": [
    "# resize graph\n",
    "figure(num=None, figsize=(15, 6), dpi=80, facecolor='w', edgecolor='k')\n",
    "\n",
    "# drop null values\n",
    "df_clean = df.dropna()\n",
    "\n",
    "# add legend\n",
    "diff = mpatches.Patch(color='#557f2d', label='Difficulty Level')\n",
    "time = mpatches.Patch(color='#2d7f5e', label='Time Spent')\n",
    "plt.legend(handles=[time, diff])\n",
    "\n",
    "# y-axis in bold\n",
    "rc('font', weight='bold')\n",
    "\n",
    "# values of each group\n",
    "bars1 = df_clean['Difficulty_Levels']\n",
    "bars2 = df_clean['Time_Spent']\n",
    "\n",
    "# heights of bars1 + bars2\n",
    "bars = df_clean['Difficulty_Levels'] + df_clean['Time_Spent']\n",
    "\n",
    "# position of the bars on the x-axis\n",
    "r = range(len(df_clean))\n",
    "\n",
    "# names of group and bar width\n",
    "names = df_clean['Developers']\n",
    "barWidth = 1\n",
    "\n",
    "# create green bars (bottom)\n",
    "plt.bar(r, bars1, color='#557f2d', edgecolor='white', width=barWidth)\n",
    "# create green bars (top), on top of the firs ones\n",
    "plt.bar(r, bars2, bottom=bars1, color='#2d7f5e', edgecolor='white', width=barWidth)\n",
    "\n",
    "# custom X axis\n",
    "plt.xticks(r, names, rotation='vertical', fontweight='bold')\n",
    "plt.xlabel(\"Developers\", fontweight='bold')\n",
    "\n",
    "# title\n",
    "plt.title('Time Spent vs Difficulty Level per Pull Request')\n",
    "\n",
    "# show graphic\n",
    "plt.show()"
   ]
  },
  {
   "cell_type": "markdown",
   "metadata": {},
   "source": [
    "## Conclusions"
   ]
  },
  {
   "cell_type": "markdown",
   "metadata": {},
   "source": [
    "As you can see, the Pybites Ninjas are an active bunch. With such a small limited dataset its plain to see that some good information can be extracted from it. Would be interesting to see which challenges are getting the most action though, but I'll leave that as an exercise for you to explore!"
   ]
  }
 ],
 "metadata": {
  "kernelspec": {
   "display_name": "Python 3",
   "language": "python",
   "name": "python3"
  },
  "language_info": {
   "codemirror_mode": {
    "name": "ipython",
    "version": 3
   },
   "file_extension": ".py",
   "mimetype": "text/x-python",
   "name": "python",
   "nbconvert_exporter": "python",
   "pygments_lexer": "ipython3",
   "version": "3.7.0"
  }
 },
 "nbformat": 4,
 "nbformat_minor": 2
}
