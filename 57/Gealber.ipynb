{
 "cells": [
  {
   "cell_type": "code",
   "execution_count": 6,
   "metadata": {},
   "outputs": [
    {
     "name": "stdout",
     "output_type": "stream",
     "text": "Most winners\n---------------\nMichael PHELPS\nLarisa LATYNINA\n---------------\nMen\tWomen\n---------------\nUSA\tUSA\nURS\tURS\nGBR\tCHN\nFRA\tAUS\nITA\tGER\nSWE\tGDR\nGER\tRUS\nHUN\tNED\nAUS\tROU\nJPN\tGBR\n"
    },
    {
     "data": {
      "text/html": "\n    <div class=\"bk-root\">\n        <a href=\"https://bokeh.pydata.org\" target=\"_blank\" class=\"bk-logo bk-logo-small bk-logo-notebook\"></a>\n        <span id=\"1108\">Loading BokehJS ...</span>\n    </div>"
     },
     "metadata": {},
     "output_type": "display_data"
    },
    {
     "data": {
      "application/javascript": "\n(function(root) {\n  function now() {\n    return new Date();\n  }\n\n  var force = true;\n\n  if (typeof (root._bokeh_onload_callbacks) === \"undefined\" || force === true) {\n    root._bokeh_onload_callbacks = [];\n    root._bokeh_is_loading = undefined;\n  }\n\n  var JS_MIME_TYPE = 'application/javascript';\n  var HTML_MIME_TYPE = 'text/html';\n  var EXEC_MIME_TYPE = 'application/vnd.bokehjs_exec.v0+json';\n  var CLASS_NAME = 'output_bokeh rendered_html';\n\n  /**\n   * Render data to the DOM node\n   */\n  function render(props, node) {\n    var script = document.createElement(\"script\");\n    node.appendChild(script);\n  }\n\n  /**\n   * Handle when an output is cleared or removed\n   */\n  function handleClearOutput(event, handle) {\n    var cell = handle.cell;\n\n    var id = cell.output_area._bokeh_element_id;\n    var server_id = cell.output_area._bokeh_server_id;\n    // Clean up Bokeh references\n    if (id != null && id in Bokeh.index) {\n      Bokeh.index[id].model.document.clear();\n      delete Bokeh.index[id];\n    }\n\n    if (server_id !== undefined) {\n      // Clean up Bokeh references\n      var cmd = \"from bokeh.io.state import curstate; print(curstate().uuid_to_server['\" + server_id + \"'].get_sessions()[0].document.roots[0]._id)\";\n      cell.notebook.kernel.execute(cmd, {\n        iopub: {\n          output: function(msg) {\n            var id = msg.content.text.trim();\n            if (id in Bokeh.index) {\n              Bokeh.index[id].model.document.clear();\n              delete Bokeh.index[id];\n            }\n          }\n        }\n      });\n      // Destroy server and session\n      var cmd = \"import bokeh.io.notebook as ion; ion.destroy_server('\" + server_id + \"')\";\n      cell.notebook.kernel.execute(cmd);\n    }\n  }\n\n  /**\n   * Handle when a new output is added\n   */\n  function handleAddOutput(event, handle) {\n    var output_area = handle.output_area;\n    var output = handle.output;\n\n    // limit handleAddOutput to display_data with EXEC_MIME_TYPE content only\n    if ((output.output_type != \"display_data\") || (!output.data.hasOwnProperty(EXEC_MIME_TYPE))) {\n      return\n    }\n\n    var toinsert = output_area.element.find(\".\" + CLASS_NAME.split(' ')[0]);\n\n    if (output.metadata[EXEC_MIME_TYPE][\"id\"] !== undefined) {\n      toinsert[toinsert.length - 1].firstChild.textContent = output.data[JS_MIME_TYPE];\n      // store reference to embed id on output_area\n      output_area._bokeh_element_id = output.metadata[EXEC_MIME_TYPE][\"id\"];\n    }\n    if (output.metadata[EXEC_MIME_TYPE][\"server_id\"] !== undefined) {\n      var bk_div = document.createElement(\"div\");\n      bk_div.innerHTML = output.data[HTML_MIME_TYPE];\n      var script_attrs = bk_div.children[0].attributes;\n      for (var i = 0; i < script_attrs.length; i++) {\n        toinsert[toinsert.length - 1].firstChild.setAttribute(script_attrs[i].name, script_attrs[i].value);\n      }\n      // store reference to server id on output_area\n      output_area._bokeh_server_id = output.metadata[EXEC_MIME_TYPE][\"server_id\"];\n    }\n  }\n\n  function register_renderer(events, OutputArea) {\n\n    function append_mime(data, metadata, element) {\n      // create a DOM node to render to\n      var toinsert = this.create_output_subarea(\n        metadata,\n        CLASS_NAME,\n        EXEC_MIME_TYPE\n      );\n      this.keyboard_manager.register_events(toinsert);\n      // Render to node\n      var props = {data: data, metadata: metadata[EXEC_MIME_TYPE]};\n      render(props, toinsert[toinsert.length - 1]);\n      element.append(toinsert);\n      return toinsert\n    }\n\n    /* Handle when an output is cleared or removed */\n    events.on('clear_output.CodeCell', handleClearOutput);\n    events.on('delete.Cell', handleClearOutput);\n\n    /* Handle when a new output is added */\n    events.on('output_added.OutputArea', handleAddOutput);\n\n    /**\n     * Register the mime type and append_mime function with output_area\n     */\n    OutputArea.prototype.register_mime_type(EXEC_MIME_TYPE, append_mime, {\n      /* Is output safe? */\n      safe: true,\n      /* Index of renderer in `output_area.display_order` */\n      index: 0\n    });\n  }\n\n  // register the mime type if in Jupyter Notebook environment and previously unregistered\n  if (root.Jupyter !== undefined) {\n    var events = require('base/js/events');\n    var OutputArea = require('notebook/js/outputarea').OutputArea;\n\n    if (OutputArea.prototype.mime_types().indexOf(EXEC_MIME_TYPE) == -1) {\n      register_renderer(events, OutputArea);\n    }\n  }\n\n  \n  if (typeof (root._bokeh_timeout) === \"undefined\" || force === true) {\n    root._bokeh_timeout = Date.now() + 5000;\n    root._bokeh_failed_load = false;\n  }\n\n  var NB_LOAD_WARNING = {'data': {'text/html':\n     \"<div style='background-color: #fdd'>\\n\"+\n     \"<p>\\n\"+\n     \"BokehJS does not appear to have successfully loaded. If loading BokehJS from CDN, this \\n\"+\n     \"may be due to a slow or bad network connection. Possible fixes:\\n\"+\n     \"</p>\\n\"+\n     \"<ul>\\n\"+\n     \"<li>re-rerun `output_notebook()` to attempt to load from CDN again, or</li>\\n\"+\n     \"<li>use INLINE resources instead, as so:</li>\\n\"+\n     \"</ul>\\n\"+\n     \"<code>\\n\"+\n     \"from bokeh.resources import INLINE\\n\"+\n     \"output_notebook(resources=INLINE)\\n\"+\n     \"</code>\\n\"+\n     \"</div>\"}};\n\n  function display_loaded() {\n    var el = document.getElementById(\"1108\");\n    if (el != null) {\n      el.textContent = \"BokehJS is loading...\";\n    }\n    if (root.Bokeh !== undefined) {\n      if (el != null) {\n        el.textContent = \"BokehJS \" + root.Bokeh.version + \" successfully loaded.\";\n      }\n    } else if (Date.now() < root._bokeh_timeout) {\n      setTimeout(display_loaded, 100)\n    }\n  }\n\n\n  function run_callbacks() {\n    try {\n      root._bokeh_onload_callbacks.forEach(function(callback) { callback() });\n    }\n    finally {\n      delete root._bokeh_onload_callbacks\n    }\n    console.info(\"Bokeh: all callbacks have finished\");\n  }\n\n  function load_libs(js_urls, callback) {\n    root._bokeh_onload_callbacks.push(callback);\n    if (root._bokeh_is_loading > 0) {\n      console.log(\"Bokeh: BokehJS is being loaded, scheduling callback at\", now());\n      return null;\n    }\n    if (js_urls == null || js_urls.length === 0) {\n      run_callbacks();\n      return null;\n    }\n    console.log(\"Bokeh: BokehJS not loaded, scheduling load and callback at\", now());\n    root._bokeh_is_loading = js_urls.length;\n    for (var i = 0; i < js_urls.length; i++) {\n      var url = js_urls[i];\n      var s = document.createElement('script');\n      s.src = url;\n      s.async = false;\n      s.onreadystatechange = s.onload = function() {\n        root._bokeh_is_loading--;\n        if (root._bokeh_is_loading === 0) {\n          console.log(\"Bokeh: all BokehJS libraries loaded\");\n          run_callbacks()\n        }\n      };\n      s.onerror = function() {\n        console.warn(\"failed to load library \" + url);\n      };\n      console.log(\"Bokeh: injecting script tag for BokehJS library: \", url);\n      document.getElementsByTagName(\"head\")[0].appendChild(s);\n    }\n  };var element = document.getElementById(\"1108\");\n  if (element == null) {\n    console.log(\"Bokeh: ERROR: autoload.js configured with elementid '1108' but no matching script tag was found. \")\n    return false;\n  }\n\n  var js_urls = [\"https://cdn.pydata.org/bokeh/release/bokeh-1.0.4.min.js\", \"https://cdn.pydata.org/bokeh/release/bokeh-widgets-1.0.4.min.js\", \"https://cdn.pydata.org/bokeh/release/bokeh-tables-1.0.4.min.js\", \"https://cdn.pydata.org/bokeh/release/bokeh-gl-1.0.4.min.js\"];\n\n  var inline_js = [\n    function(Bokeh) {\n      Bokeh.set_log_level(\"info\");\n    },\n    \n    function(Bokeh) {\n      \n    },\n    function(Bokeh) {\n      console.log(\"Bokeh: injecting CSS: https://cdn.pydata.org/bokeh/release/bokeh-1.0.4.min.css\");\n      Bokeh.embed.inject_css(\"https://cdn.pydata.org/bokeh/release/bokeh-1.0.4.min.css\");\n      console.log(\"Bokeh: injecting CSS: https://cdn.pydata.org/bokeh/release/bokeh-widgets-1.0.4.min.css\");\n      Bokeh.embed.inject_css(\"https://cdn.pydata.org/bokeh/release/bokeh-widgets-1.0.4.min.css\");\n      console.log(\"Bokeh: injecting CSS: https://cdn.pydata.org/bokeh/release/bokeh-tables-1.0.4.min.css\");\n      Bokeh.embed.inject_css(\"https://cdn.pydata.org/bokeh/release/bokeh-tables-1.0.4.min.css\");\n    }\n  ];\n\n  function run_inline_js() {\n    \n    if ((root.Bokeh !== undefined) || (force === true)) {\n      for (var i = 0; i < inline_js.length; i++) {\n        inline_js[i].call(root, root.Bokeh);\n      }if (force === true) {\n        display_loaded();\n      }} else if (Date.now() < root._bokeh_timeout) {\n      setTimeout(run_inline_js, 100);\n    } else if (!root._bokeh_failed_load) {\n      console.log(\"Bokeh: BokehJS failed to load within specified timeout.\");\n      root._bokeh_failed_load = true;\n    } else if (force !== true) {\n      var cell = $(document.getElementById(\"1108\")).parents('.cell').data().cell;\n      cell.output_area.append_execute_result(NB_LOAD_WARNING)\n    }\n\n  }\n\n  if (root._bokeh_is_loading === 0) {\n    console.log(\"Bokeh: BokehJS loaded, going straight to plotting\");\n    run_inline_js();\n  } else {\n    load_libs(js_urls, function() {\n      console.log(\"Bokeh: BokehJS plotting callback run at\", now());\n      run_inline_js();\n    });\n  }\n}(window));",
      "application/vnd.bokehjs_load.v0+json": "\n(function(root) {\n  function now() {\n    return new Date();\n  }\n\n  var force = true;\n\n  if (typeof (root._bokeh_onload_callbacks) === \"undefined\" || force === true) {\n    root._bokeh_onload_callbacks = [];\n    root._bokeh_is_loading = undefined;\n  }\n\n  \n\n  \n  if (typeof (root._bokeh_timeout) === \"undefined\" || force === true) {\n    root._bokeh_timeout = Date.now() + 5000;\n    root._bokeh_failed_load = false;\n  }\n\n  var NB_LOAD_WARNING = {'data': {'text/html':\n     \"<div style='background-color: #fdd'>\\n\"+\n     \"<p>\\n\"+\n     \"BokehJS does not appear to have successfully loaded. If loading BokehJS from CDN, this \\n\"+\n     \"may be due to a slow or bad network connection. Possible fixes:\\n\"+\n     \"</p>\\n\"+\n     \"<ul>\\n\"+\n     \"<li>re-rerun `output_notebook()` to attempt to load from CDN again, or</li>\\n\"+\n     \"<li>use INLINE resources instead, as so:</li>\\n\"+\n     \"</ul>\\n\"+\n     \"<code>\\n\"+\n     \"from bokeh.resources import INLINE\\n\"+\n     \"output_notebook(resources=INLINE)\\n\"+\n     \"</code>\\n\"+\n     \"</div>\"}};\n\n  function display_loaded() {\n    var el = document.getElementById(\"1108\");\n    if (el != null) {\n      el.textContent = \"BokehJS is loading...\";\n    }\n    if (root.Bokeh !== undefined) {\n      if (el != null) {\n        el.textContent = \"BokehJS \" + root.Bokeh.version + \" successfully loaded.\";\n      }\n    } else if (Date.now() < root._bokeh_timeout) {\n      setTimeout(display_loaded, 100)\n    }\n  }\n\n\n  function run_callbacks() {\n    try {\n      root._bokeh_onload_callbacks.forEach(function(callback) { callback() });\n    }\n    finally {\n      delete root._bokeh_onload_callbacks\n    }\n    console.info(\"Bokeh: all callbacks have finished\");\n  }\n\n  function load_libs(js_urls, callback) {\n    root._bokeh_onload_callbacks.push(callback);\n    if (root._bokeh_is_loading > 0) {\n      console.log(\"Bokeh: BokehJS is being loaded, scheduling callback at\", now());\n      return null;\n    }\n    if (js_urls == null || js_urls.length === 0) {\n      run_callbacks();\n      return null;\n    }\n    console.log(\"Bokeh: BokehJS not loaded, scheduling load and callback at\", now());\n    root._bokeh_is_loading = js_urls.length;\n    for (var i = 0; i < js_urls.length; i++) {\n      var url = js_urls[i];\n      var s = document.createElement('script');\n      s.src = url;\n      s.async = false;\n      s.onreadystatechange = s.onload = function() {\n        root._bokeh_is_loading--;\n        if (root._bokeh_is_loading === 0) {\n          console.log(\"Bokeh: all BokehJS libraries loaded\");\n          run_callbacks()\n        }\n      };\n      s.onerror = function() {\n        console.warn(\"failed to load library \" + url);\n      };\n      console.log(\"Bokeh: injecting script tag for BokehJS library: \", url);\n      document.getElementsByTagName(\"head\")[0].appendChild(s);\n    }\n  };var element = document.getElementById(\"1108\");\n  if (element == null) {\n    console.log(\"Bokeh: ERROR: autoload.js configured with elementid '1108' but no matching script tag was found. \")\n    return false;\n  }\n\n  var js_urls = [\"https://cdn.pydata.org/bokeh/release/bokeh-1.0.4.min.js\", \"https://cdn.pydata.org/bokeh/release/bokeh-widgets-1.0.4.min.js\", \"https://cdn.pydata.org/bokeh/release/bokeh-tables-1.0.4.min.js\", \"https://cdn.pydata.org/bokeh/release/bokeh-gl-1.0.4.min.js\"];\n\n  var inline_js = [\n    function(Bokeh) {\n      Bokeh.set_log_level(\"info\");\n    },\n    \n    function(Bokeh) {\n      \n    },\n    function(Bokeh) {\n      console.log(\"Bokeh: injecting CSS: https://cdn.pydata.org/bokeh/release/bokeh-1.0.4.min.css\");\n      Bokeh.embed.inject_css(\"https://cdn.pydata.org/bokeh/release/bokeh-1.0.4.min.css\");\n      console.log(\"Bokeh: injecting CSS: https://cdn.pydata.org/bokeh/release/bokeh-widgets-1.0.4.min.css\");\n      Bokeh.embed.inject_css(\"https://cdn.pydata.org/bokeh/release/bokeh-widgets-1.0.4.min.css\");\n      console.log(\"Bokeh: injecting CSS: https://cdn.pydata.org/bokeh/release/bokeh-tables-1.0.4.min.css\");\n      Bokeh.embed.inject_css(\"https://cdn.pydata.org/bokeh/release/bokeh-tables-1.0.4.min.css\");\n    }\n  ];\n\n  function run_inline_js() {\n    \n    if ((root.Bokeh !== undefined) || (force === true)) {\n      for (var i = 0; i < inline_js.length; i++) {\n        inline_js[i].call(root, root.Bokeh);\n      }if (force === true) {\n        display_loaded();\n      }} else if (Date.now() < root._bokeh_timeout) {\n      setTimeout(run_inline_js, 100);\n    } else if (!root._bokeh_failed_load) {\n      console.log(\"Bokeh: BokehJS failed to load within specified timeout.\");\n      root._bokeh_failed_load = true;\n    } else if (force !== true) {\n      var cell = $(document.getElementById(\"1108\")).parents('.cell').data().cell;\n      cell.output_area.append_execute_result(NB_LOAD_WARNING)\n    }\n\n  }\n\n  if (root._bokeh_is_loading === 0) {\n    console.log(\"Bokeh: BokehJS loaded, going straight to plotting\");\n    run_inline_js();\n  } else {\n    load_libs(js_urls, function() {\n      console.log(\"Bokeh: BokehJS plotting callback run at\", now());\n      run_inline_js();\n    });\n  }\n}(window));"
     },
     "metadata": {},
     "output_type": "display_data"
    },
    {
     "data": {
      "text/html": "\n\n\n\n\n\n  <div class=\"bk-root\" id=\"3e5478f0-35d4-4ed7-a6dd-5b9f7f7ea260\" data-root-id=\"1110\"></div>\n"
     },
     "metadata": {},
     "output_type": "display_data"
    },
    {
     "data": {
      "application/javascript": "(function(root) {\n  function embed_document(root) {\n    \n  var docs_json = {\"fa5ed44c-b3b4-4b6f-8ae6-8394eaf3e36b\":{\"roots\":{\"references\":[{\"attributes\":{\"below\":[{\"id\":\"1120\",\"type\":\"CategoricalAxis\"}],\"left\":[{\"id\":\"1124\",\"type\":\"LinearAxis\"}],\"renderers\":[{\"id\":\"1120\",\"type\":\"CategoricalAxis\"},{\"id\":\"1123\",\"type\":\"Grid\"},{\"id\":\"1124\",\"type\":\"LinearAxis\"},{\"id\":\"1128\",\"type\":\"Grid\"},{\"id\":\"1137\",\"type\":\"BoxAnnotation\"},{\"id\":\"1155\",\"type\":\"Legend\"},{\"id\":\"1147\",\"type\":\"GlyphRenderer\"}],\"title\":{\"id\":\"1109\",\"type\":\"Title\"},\"toolbar\":{\"id\":\"1135\",\"type\":\"Toolbar\"},\"x_range\":{\"id\":\"1112\",\"type\":\"FactorRange\"},\"x_scale\":{\"id\":\"1116\",\"type\":\"CategoricalScale\"},\"y_range\":{\"id\":\"1114\",\"type\":\"DataRange1d\"},\"y_scale\":{\"id\":\"1118\",\"type\":\"LinearScale\"}},\"id\":\"1110\",\"subtype\":\"Figure\",\"type\":\"Plot\"},{\"attributes\":{\"bottom_units\":\"screen\",\"fill_alpha\":{\"value\":0.5},\"fill_color\":{\"value\":\"lightgrey\"},\"left_units\":\"screen\",\"level\":\"overlay\",\"line_alpha\":{\"value\":1.0},\"line_color\":{\"value\":\"black\"},\"line_dash\":[4,4],\"line_width\":{\"value\":2},\"plot\":null,\"render_mode\":\"css\",\"right_units\":\"screen\",\"top_units\":\"screen\"},\"id\":\"1137\",\"type\":\"BoxAnnotation\"},{\"attributes\":{},\"id\":\"1116\",\"type\":\"CategoricalScale\"},{\"attributes\":{\"items\":[{\"id\":\"1156\",\"type\":\"LegendItem\"}],\"plot\":{\"id\":\"1110\",\"subtype\":\"Figure\",\"type\":\"Plot\"}},\"id\":\"1155\",\"type\":\"Legend\"},{\"attributes\":{\"active_drag\":\"auto\",\"active_inspect\":\"auto\",\"active_multi\":null,\"active_scroll\":\"auto\",\"active_tap\":\"auto\",\"tools\":[{\"id\":\"1129\",\"type\":\"PanTool\"},{\"id\":\"1130\",\"type\":\"WheelZoomTool\"},{\"id\":\"1131\",\"type\":\"BoxZoomTool\"},{\"id\":\"1132\",\"type\":\"SaveTool\"},{\"id\":\"1133\",\"type\":\"ResetTool\"},{\"id\":\"1134\",\"type\":\"HelpTool\"}]},\"id\":\"1135\",\"type\":\"Toolbar\"},{\"attributes\":{},\"id\":\"1121\",\"type\":\"CategoricalTicker\"},{\"attributes\":{\"axis_label\":\"Countries\",\"formatter\":{\"id\":\"1150\",\"type\":\"CategoricalTickFormatter\"},\"plot\":{\"id\":\"1110\",\"subtype\":\"Figure\",\"type\":\"Plot\"},\"ticker\":{\"id\":\"1121\",\"type\":\"CategoricalTicker\"}},\"id\":\"1120\",\"type\":\"CategoricalAxis\"},{\"attributes\":{\"overlay\":{\"id\":\"1137\",\"type\":\"BoxAnnotation\"}},\"id\":\"1131\",\"type\":\"BoxZoomTool\"},{\"attributes\":{},\"id\":\"1130\",\"type\":\"WheelZoomTool\"},{\"attributes\":{},\"id\":\"1132\",\"type\":\"SaveTool\"},{\"attributes\":{},\"id\":\"1171\",\"type\":\"Selection\"},{\"attributes\":{},\"id\":\"1125\",\"type\":\"BasicTicker\"},{\"attributes\":{\"callback\":null},\"id\":\"1114\",\"type\":\"DataRange1d\"},{\"attributes\":{},\"id\":\"1133\",\"type\":\"ResetTool\"},{\"attributes\":{\"data_source\":{\"id\":\"1107\",\"type\":\"ColumnDataSource\"},\"glyph\":{\"id\":\"1145\",\"type\":\"Line\"},\"hover_glyph\":null,\"muted_glyph\":null,\"nonselection_glyph\":{\"id\":\"1146\",\"type\":\"Line\"},\"selection_glyph\":null,\"view\":{\"id\":\"1148\",\"type\":\"CDSView\"}},\"id\":\"1147\",\"type\":\"GlyphRenderer\"},{\"attributes\":{\"axis_label\":\"Medals won\",\"formatter\":{\"id\":\"1153\",\"type\":\"BasicTickFormatter\"},\"plot\":{\"id\":\"1110\",\"subtype\":\"Figure\",\"type\":\"Plot\"},\"ticker\":{\"id\":\"1125\",\"type\":\"BasicTicker\"}},\"id\":\"1124\",\"type\":\"LinearAxis\"},{\"attributes\":{},\"id\":\"1129\",\"type\":\"PanTool\"},{\"attributes\":{\"line_alpha\":0.1,\"line_color\":\"#1f77b4\",\"x\":{\"field\":\"Country\"},\"y\":{\"field\":\"Quantity\"}},\"id\":\"1146\",\"type\":\"Line\"},{\"attributes\":{\"label\":{\"value\":\"Medals won by men\"},\"renderers\":[{\"id\":\"1147\",\"type\":\"GlyphRenderer\"}]},\"id\":\"1156\",\"type\":\"LegendItem\"},{\"attributes\":{\"line_color\":\"blue\",\"x\":{\"field\":\"Country\"},\"y\":{\"field\":\"Quantity\"}},\"id\":\"1145\",\"type\":\"Line\"},{\"attributes\":{},\"id\":\"1134\",\"type\":\"HelpTool\"},{\"attributes\":{\"dimension\":1,\"plot\":{\"id\":\"1110\",\"subtype\":\"Figure\",\"type\":\"Plot\"},\"ticker\":{\"id\":\"1125\",\"type\":\"BasicTicker\"}},\"id\":\"1128\",\"type\":\"Grid\"},{\"attributes\":{},\"id\":\"1153\",\"type\":\"BasicTickFormatter\"},{\"attributes\":{\"plot\":{\"id\":\"1110\",\"subtype\":\"Figure\",\"type\":\"Plot\"},\"ticker\":{\"id\":\"1121\",\"type\":\"CategoricalTicker\"}},\"id\":\"1123\",\"type\":\"Grid\"},{\"attributes\":{},\"id\":\"1170\",\"type\":\"UnionRenderers\"},{\"attributes\":{},\"id\":\"1150\",\"type\":\"CategoricalTickFormatter\"},{\"attributes\":{\"callback\":null,\"data\":{\"Country\":[\"USA\",\"AUS\",\"GBR\",\"GER\",\"FRA\",\"JPN\",\"ITA\",\"HUN\",\"SWE\"],\"Quantity\":[176,84,62,46,44,40,24,4,4],\"Year\":[2012,2012,2012,2012,2012,2012,2012,2012,2012],\"index\":[211,212,213,214,215,216,217,218,219]},\"selected\":{\"id\":\"1171\",\"type\":\"Selection\"},\"selection_policy\":{\"id\":\"1170\",\"type\":\"UnionRenderers\"}},\"id\":\"1107\",\"type\":\"ColumnDataSource\"},{\"attributes\":{\"callback\":null,\"factors\":[\"USA\",\"AUS\",\"GBR\",\"GER\",\"FRA\",\"JPN\",\"ITA\",\"HUN\",\"SWE\"]},\"id\":\"1112\",\"type\":\"FactorRange\"},{\"attributes\":{},\"id\":\"1118\",\"type\":\"LinearScale\"},{\"attributes\":{\"plot\":null,\"text\":\"Medals won by countries in 2012 Olimpic games\"},\"id\":\"1109\",\"type\":\"Title\"},{\"attributes\":{\"source\":{\"id\":\"1107\",\"type\":\"ColumnDataSource\"}},\"id\":\"1148\",\"type\":\"CDSView\"}],\"root_ids\":[\"1110\"]},\"title\":\"Bokeh Application\",\"version\":\"1.0.4\"}};\n  var render_items = [{\"docid\":\"fa5ed44c-b3b4-4b6f-8ae6-8394eaf3e36b\",\"roots\":{\"1110\":\"3e5478f0-35d4-4ed7-a6dd-5b9f7f7ea260\"}}];\n  root.Bokeh.embed.embed_items_notebook(docs_json, render_items);\n\n  }\n  if (root.Bokeh !== undefined) {\n    embed_document(root);\n  } else {\n    var attempts = 0;\n    var timer = setInterval(function(root) {\n      if (root.Bokeh !== undefined) {\n        embed_document(root);\n        clearInterval(timer);\n      }\n      attempts++;\n      if (attempts > 100) {\n        console.log(\"Bokeh: ERROR: Unable to run BokehJS code because BokehJS library is missing\");\n        clearInterval(timer);\n      }\n    }, 10, root)\n  }\n})(window);",
      "application/vnd.bokehjs_exec.v0+json": ""
     },
     "metadata": {
      "application/vnd.bokehjs_exec.v0+json": {
       "id": "1110"
      }
     },
     "output_type": "display_data"
    }
   ],
   "source": [
    "# Before start running make sure summer.csv is in the working directory\n",
    "\n",
    "import pandas as pd\n",
    "import numpy as np\n",
    "from bokeh.plotting import figure, show\n",
    "from bokeh.io import output_notebook, output_file\n",
    "from bokeh.models import ColumnDataSource\n",
    "from collections import Counter\n",
    "\n",
    "summer_data = pd.read_csv('summer.csv')\n",
    "first_elem_list = lambda r: [d[0] for d in r]\n",
    "\n",
    "\n",
    "\n",
    "def most_winners():\n",
    "    \"\"\"\n",
    "    Return athletes who won most medals in all the Summer Olympic Games (1896-2014).\n",
    "    \"\"\"\n",
    "    athlete_count = Counter(summer_data['Athlete'])\n",
    "    male, female = athlete_count.most_common(2)\n",
    "    male = \" \".join(male[0].split(\", \")[::-1])\n",
    "    female = \" \".join(female[0].split(\", \")[::-1])\n",
    "    return male, female\n",
    "\n",
    "def topten_countries():\n",
    "    \"\"\"\n",
    "    Return the first 10 countries that won most medals, for men and women.\n",
    "    \"\"\"\n",
    "    men = summer_data['Gender'] == 'Men'\n",
    "    women = summer_data['Gender'] == 'Women'\n",
    "    men_counter = Counter(summer_data[men]['Country'])\n",
    "    women_counter = Counter(summer_data[women]['Country'])\n",
    "    men_countries = first_elem_list(men_counter.most_common(10))\n",
    "    women_countries = first_elem_list(women_counter.most_common(10))\n",
    "    return men_countries, women_countries\n",
    "\n",
    "def graph(men_countries, women_countries):\n",
    "    \"\"\"\n",
    "    Here we define most popular as the disciplines with more ocurrence.\n",
    "    \"\"\"\n",
    "    events = Counter(summer_data['Discipline'])\n",
    "    popular = summer_data['Discipline'].isin(first_elem_list(events.most_common(10)))\n",
    "    men_filter = summer_data['Country'].isin(men_countries)\n",
    "    year_filter = summer_data['Year'] <= 2012\n",
    "    data_men = summer_data[popular & men_filter & year_filter][['Year','Country']]    \n",
    "    \n",
    "    \n",
    "    data_men = data_men.groupby('Year')['Country'].value_counts()\n",
    "    m = data_men.reset_index(name=\"Quantity\")\n",
    "    m = m[m['Year'] == 2012]\n",
    "\n",
    "    \n",
    "    data_source_men = ColumnDataSource(m)    \n",
    "\n",
    "    # output_file('plotting.html',\n",
    "    #             title='Olimpic Games')\n",
    "    output_notebook()\n",
    "    \n",
    "    fig = figure(       \n",
    "        x_range=m['Country'], \n",
    "        title='Medals won by countries in 2012 Olimpic games',\n",
    "        x_axis_label='Countries', y_axis_label='Medals won',\n",
    "    )\n",
    "\n",
    "    # fig.vbar()\n",
    "    fig.line(\n",
    "        'Country','Quantity',\n",
    "        color='blue', line_width=1,\n",
    "        legend=\"Medals won by men\",\n",
    "        source=data_source_men\n",
    "    )\n",
    "    show(fig)\n",
    "\n",
    "def main():\n",
    "    male, female = most_winners()\n",
    "    print(\"Most winners\")\n",
    "    print(\"-\"*15)\n",
    "    print(male,female, sep=\"\\n\")\n",
    "    men_countries, women_countries = topten_countries()\n",
    "    print(\"-\"*15)\n",
    "    print(\"Men\",\"Women\", sep=\"\\t\")\n",
    "    print(\"-\"*15)\n",
    "    for i,_ in enumerate(men_countries):\n",
    "        print(men_countries[i], women_countries[i], sep=\"\\t\")\n",
    "\n",
    "    graph(men_countries, women_countries)\n",
    "\n",
    "    \n",
    "if __name__ == \"__main__\":\n",
    "    main()\n",
    "\n"
   ]
  },
  {
   "cell_type": "code",
   "execution_count": null,
   "metadata": {},
   "outputs": [],
   "source": []
  }
 ],
 "metadata": {
  "kernelspec": {
   "display_name": "Python 3",
   "language": "python",
   "name": "python3"
  },
  "language_info": {
   "codemirror_mode": {
    "name": "ipython",
    "version": 3
   },
   "file_extension": ".py",
   "mimetype": "text/x-python",
   "name": "python",
   "nbconvert_exporter": "python",
   "pygments_lexer": "ipython3",
   "version": "3.7.3"
  }
 },
 "nbformat": 4,
 "nbformat_minor": 2
}