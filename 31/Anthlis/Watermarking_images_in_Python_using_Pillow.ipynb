{
 "cells": [
  {
   "cell_type": "markdown",
   "metadata": {},
   "source": [
    "# Watermarking photos? \"I can do that in Python!\"\n",
    "\n",
    "My wife is setting up a business from home and wanted to protect photos of her work submitted to social media sites and the web in general. \"I can do that using Python!\", I exclaimed, thinking I had seen a tutorial showing how ages ago. Laptop open, I set to work and found my bookmarked tutorial. It was using OpenCV2 and even after ~70 odd days of my #100DaysOfCode journey, I didn't really understand it well enough to configure it myself if I had to make changes. (OpenCV is on my list of things to do after my #100Days). I remembered reading about Pillow, or PIL as it is sometimes known, and started to read the docs for it. Challenge to myself accepted!"
   ]
  },
  {
   "cell_type": "markdown",
   "metadata": {},
   "source": [
    "### Pillow or PIL\n",
    "\n",
    "The Python Image Library (PIL), although not in the standard library, has been Python’s best-known 2-D image processing library. It predated installers such as pip, so a “friendly fork” called Pillow was created. Although the package is called Pillow, you import it as PIL to make it compatible with the older PIL.\n",
    "\n",
    "Pillow’s documentation is good, check it out here: https://pillow.readthedocs.io/en/stable/"
   ]
  },
  {
   "cell_type": "markdown",
   "metadata": {},
   "source": [
    "### Set-up and install\n",
    "\n",
    "As usual, a virtualenv is created and activated to do our work in. \n",
    "\n",
    "Pillow can be installed on most platforms and has been tested for the latest Python version (3.7) across the most commonly used platforms. Simply install Pillow with pip: \n",
    "\n",
    "```code\n",
    "(venv) $ pip install pillow\n",
    "```"
   ]
  },
  {
   "cell_type": "markdown",
   "metadata": {},
   "source": [
    "### Let's begin...\n",
    "\n",
    "Let's cover off some basic usage of Pillow; opening Images, resizing and saving images. \n",
    "If you want to follow along, find an image that you want to use and keep it handy in the same working directory of your program.py."
   ]
  },
  {
   "cell_type": "markdown",
   "metadata": {},
   "source": [
    "### 1) Opening (and saving) images"
   ]
  },
  {
   "cell_type": "code",
   "execution_count": 9,
   "metadata": {},
   "outputs": [],
   "source": [
    "# program.py\n",
    "\n",
    "from PIL import Image\n",
    "\n",
    "# to load an image from a file, use the open() function in the image module. Note the capitalisation of image here. \n",
    "image = Image.open('original.jpg')"
   ]
  },
  {
   "cell_type": "markdown",
   "metadata": {},
   "source": [
    "It's not unreasonable to have expected that to 'open' on your screen, but that's not what is meant here. You can test if the opening of the image in Python was successful by ensuring it returned an image object: "
   ]
  },
  {
   "cell_type": "code",
   "execution_count": 10,
   "metadata": {},
   "outputs": [
    {
     "name": "stdout",
     "output_type": "stream",
     "text": [
      "<class 'PIL.JpegImagePlugin.JpegImageFile'>\n"
     ]
    }
   ],
   "source": [
    "# if successful, should return an Image object:\n",
    "print(type(image))  # output: <class 'PIL.JpegImagePlugin.JpegImageFile'>"
   ]
  },
  {
   "cell_type": "markdown",
   "metadata": {},
   "source": [
    "Instead, to open, or show, the image on your screen use: "
   ]
  },
  {
   "cell_type": "code",
   "execution_count": 11,
   "metadata": {},
   "outputs": [],
   "source": [
    "# to actually open and view it.\n",
    "image.show()"
   ]
  },
  {
   "cell_type": "markdown",
   "metadata": {},
   "source": [
    "This is the image I am using for this work (it could be the PyBites corporate aircraft?): \n",
    "\n",
    "![title](original.jpg)"
   ]
  },
  {
   "cell_type": "markdown",
   "metadata": {},
   "source": [
    "Now we have opened the image in Python, let's inspect its image details from the object attributes:"
   ]
  },
  {
   "cell_type": "code",
   "execution_count": 12,
   "metadata": {},
   "outputs": [
    {
     "name": "stdout",
     "output_type": "stream",
     "text": [
      "JPEG\n"
     ]
    }
   ],
   "source": [
    "# The file format of the source file:\n",
    "print((image.format)) # Output: JPEG"
   ]
  },
  {
   "cell_type": "code",
   "execution_count": 13,
   "metadata": {},
   "outputs": [
    {
     "name": "stdout",
     "output_type": "stream",
     "text": [
      "RGB\n"
     ]
    }
   ],
   "source": [
    "# The pixel format, i.e. RGB\n",
    "print(image.mode)"
   ]
  },
  {
   "cell_type": "code",
   "execution_count": 14,
   "metadata": {},
   "outputs": [
    {
     "name": "stdout",
     "output_type": "stream",
     "text": [
      "(6000, 4000)\n"
     ]
    }
   ],
   "source": [
    "# Size in pixels\n",
    "print(image.size)"
   ]
  },
  {
   "cell_type": "markdown",
   "metadata": {},
   "source": [
    "Ok, let's save the image as something else, while also changing the file format from a JPEG to a PNG format:"
   ]
  },
  {
   "cell_type": "code",
   "execution_count": 16,
   "metadata": {},
   "outputs": [],
   "source": [
    "# saving an image as a new image; can also change file format i.e. jpg -> png\n",
    "image.save('new_image.png')"
   ]
  },
  {
   "cell_type": "markdown",
   "metadata": {},
   "source": [
    "You should end up with two image files in your working directory: 'original.jpg' and 'new_image.png'. "
   ]
  },
  {
   "cell_type": "markdown",
   "metadata": {},
   "source": [
    "### 2) Resizing images\n",
    "\n",
    "Here's where the fun really starts! Of course, it's possible to resize images using Pillow. \n",
    "\n",
    "The previous image size was determined to be 6000 pixels x 4000 pixels. Let's change that to make the new_image.png smaller. Our watermarking will probably need to be smaller than the image to be watermarked. \n",
    "\n",
    "To resize an image, we can pass a 2 integer tuple describing width and height to resize()."
   ]
  },
  {
   "cell_type": "code",
   "execution_count": 23,
   "metadata": {},
   "outputs": [
    {
     "name": "stdout",
     "output_type": "stream",
     "text": [
      "(400, 400)\n"
     ]
    }
   ],
   "source": [
    "# lets start to use and modify new_image.png\n",
    "img = Image.open('new_image.png')\n",
    "#resizing it now to 400 pixels x 400 pixels:\n",
    "img = image.resize((400, 400))\n",
    "# save it as new_image_400x400 and as a JPG file:\n",
    "img.save('new_image_400x400.jpg')\n",
    "print(new_image_400x400.size)"
   ]
  },
  {
   "cell_type": "markdown",
   "metadata": {},
   "source": [
    "Let's look at our new image 'new_image_400x400.jpg'"
   ]
  },
  {
   "cell_type": "code",
   "execution_count": 29,
   "metadata": {},
   "outputs": [],
   "source": [
    "new_image_400x400.show() # will open the image on your screen"
   ]
  },
  {
   "cell_type": "markdown",
   "metadata": {},
   "source": [
    "This is what it looks like. Does it look right to you? "
   ]
  },
  {
   "cell_type": "markdown",
   "metadata": {},
   "source": [
    "![title](new_image_400x400.jpg)"
   ]
  },
  {
   "cell_type": "markdown",
   "metadata": {},
   "source": [
    "The thing to beware of using the resize() function is that is doesn't protect your aspect ratio. It's also therefore possible to blow out the image by making it bigger than the original and lose definition causing it to look a bit fuzzy. \n",
    "\n",
    "Fortunately, this is where the thumbnail() function comes in handy!"
   ]
  },
  {
   "cell_type": "code",
   "execution_count": 35,
   "metadata": {},
   "outputs": [
    {
     "name": "stdout",
     "output_type": "stream",
     "text": [
      "(400, 266)\n"
     ]
    }
   ],
   "source": [
    "# to keep aspect ratios instead, use thumbnail(),\n",
    "# takes 2 ints max_width x max_height of the thumbnail.\n",
    "image = Image.open('new_image.png')\n",
    "image.thumbnail((400, 400))\n",
    "image.save('image_thumbnail.jpg')\n",
    "print(image.size)"
   ]
  },
  {
   "cell_type": "markdown",
   "metadata": {},
   "source": [
    "While we have just shrunk our image, another positive of thumbnail is that it cannot upscale the image above the pixel size of the original - no blow out! I.e. setting a pixel size of 8000 x 8000 pixels results in an image size of 6000 x 4000 pixels as per the original dimensions. \n",
    "\n",
    "This looks much better: "
   ]
  },
  {
   "cell_type": "markdown",
   "metadata": {},
   "source": [
    "![title](image_thumbnail.jpg)"
   ]
  },
  {
   "cell_type": "markdown",
   "metadata": {},
   "source": [
    "In parts 1) and 2) we covered off how to open an image in Pillow, and on the screen. Then resize it using either the resize function or the preferred thumbnail function which preserves the image's aspect ratio. \n",
    "\n",
    "Let's now look at how we can paste an image onto another image. "
   ]
  },
  {
   "cell_type": "markdown",
   "metadata": {},
   "source": [
    "### 3) Pasting an image onto another image\n",
    "\n",
    "Pasting an image onto another image using Pillow is straightforward and fundamental to creating a watermarked image. For this part, I'm going to use the original aircraft image, and paste the PyBites logo in the bottom right corner to it. "
   ]
  },
  {
   "cell_type": "markdown",
   "metadata": {},
   "source": [
    "Quite often your second 'watermark' image will have a solid coloured background to it. That needs to be made transparent so that the 'watermark' background merges into the original image well. I'm using a Mac so I refererred to this Apple support page (https://support.apple.com/en-nz/guide/preview/prvw15636/mac) that showed me how to do this. There are methods easily 'Googled' for Windows using Paint too. "
   ]
  },
  {
   "cell_type": "markdown",
   "metadata": {},
   "source": [
    "This is the PyBites logo from the #100DaysOfCode course, that I modified with a transparent background using the method described above. ![title](pybites_trans.png)"
   ]
  },
  {
   "cell_type": "markdown",
   "metadata": {},
   "source": [
    "Let's code! \n",
    "\n",
    "First we'll open the two images. Then make a copy of the original which we'll modify. Then code where we want the PyBites logo to go on the working image, paste it using the paste() function (easy as that!) and save our work:"
   ]
  },
  {
   "cell_type": "code",
   "execution_count": 40,
   "metadata": {},
   "outputs": [],
   "source": [
    "from PIL import Image\n",
    "\n",
    "image = Image.open('original.jpg')\n",
    "logo = Image.open('pybites_trans.png')\n",
    "\n",
    "image_copy = image.copy()\n",
    "\n",
    "position = ((image_copy.width - logo.width), (image_copy.height - logo.height))\n",
    "\n",
    "image_copy.paste(logo, position)\n",
    "\n",
    "image_copy.save('pasted_image.jpg')\n",
    "image_copy.show()"
   ]
  },
  {
   "cell_type": "markdown",
   "metadata": {},
   "source": [
    "Here's the result: \n",
    "\n",
    "![title](pasted_image.jpg)"
   ]
  },
  {
   "cell_type": "markdown",
   "metadata": {},
   "source": [
    "But wait! We're using the Pybites logo with a transparent background, aren't we? \n",
    "\n",
    "Yes we are, but let's look at the Pillow documentation...\n",
    "\n",
    "Pasting an RGBA image and also using it as the mask will paste the opaque portion of the image but not its transparent background.\n",
    "\n",
    "We need to pass in a third argument to the paste() function. This argument is the transparency mask Image object. A mask is an Image object where the alpha value is significant, but its green, red, and blue values are ignored. If a mask is given, paste() updates only the regions indicated by the mask.   \n",
    "\n",
    "So let's modify the paste as below to get a pasted logo with transparent pixels. "
   ]
  },
  {
   "cell_type": "code",
   "execution_count": 41,
   "metadata": {},
   "outputs": [],
   "source": [
    "from PIL import Image\n",
    "\n",
    "image = Image.open('original.jpg')\n",
    "logo = Image.open('pybites_trans.png')\n",
    "\n",
    "image_copy = image.copy()\n",
    "\n",
    "position = ((image_copy.width - logo.width), (image_copy.height - logo.height))\n",
    "\n",
    "# modify the paste by adding the logo as the third argument as per the explanation above.\n",
    "image_copy.paste(logo, position, logo)\n",
    "\n",
    "image_copy.save('pasted_image_with_trans_backgnd.jpg')"
   ]
  },
  {
   "cell_type": "markdown",
   "metadata": {},
   "source": [
    "This is better! (Although we should have resized perhaps!)\n",
    "\n",
    "![title](pasted_image_with_trans_backgnd.jpg)"
   ]
  },
  {
   "cell_type": "markdown",
   "metadata": {},
   "source": [
    "In part 3) we covered how to paste a logo image onto a main image, and introduced how the paste function can also take a transparency mask as an optional argument."
   ]
  },
  {
   "cell_type": "markdown",
   "metadata": {},
   "source": [
    "### 4) A final program to paste multiple images over the original\n",
    "\n",
    "As mentioned, the Pillow documentation is really quite good. Advanced users will want to understand how to add/replace alpha layers, or convert to black & white from RGB colours, and change many other parameters. \n",
    "\n",
    "I encourage you to read the documentation and have a play! \n",
    "\n",
    "The following code is a variant of the work above. It pastes multiple copies of the PyBites logo watermark all over the original image. While the PyBites logo is a bit of an excessive watermark it demonstrates that a formatted text, possibly with an accompanying logo, can be splashed all over an image you might want to protect online from being copied. This might prevent the image being copied and claimed as someone else's work, whereas a single watermarked image could be cropped out of the original picture. "
   ]
  },
  {
   "cell_type": "code",
   "execution_count": 42,
   "metadata": {},
   "outputs": [],
   "source": [
    "from PIL import Image\n",
    "\n",
    "\n",
    "def create_watermark(image_path, final_image_path, watermark):\n",
    "    main = Image.open(image_path)\n",
    "    mark = Image.open(watermark)\n",
    "\n",
    "    mask = mark.convert('L').point(lambda x: min(x, 25))\n",
    "    mark.putalpha(mask)\n",
    "\n",
    "    mark_width, mark_height = mark.size\n",
    "    main_width, main_height = main.size\n",
    "    aspect_ratio = mark_width / mark_height\n",
    "    new_mark_width = main_width * 0.25\n",
    "    mark.thumbnail((new_mark_width, new_mark_width / aspect_ratio), Image.ANTIALIAS)\n",
    "\n",
    "    tmp_img = Image.new('RGB', main.size)\n",
    "\n",
    "    for i in range(0, tmp_img.size[0], mark.size[0]):\n",
    "        for j in range(0, tmp_img.size[1], mark.size[1]):\n",
    "            main.paste(mark, (i, j), mark)\n",
    "            main.thumbnail((8000, 8000), Image.ANTIALIAS)\n",
    "            main.save(final_image_path, quality=100)\n",
    "\n",
    "\n",
    "if __name__ == '__main__':\n",
    "    create_watermark('original.jpg', 'original_final_watermarked.jpg', 'pybites_trans.png')"
   ]
  },
  {
   "cell_type": "markdown",
   "metadata": {},
   "source": [
    "This results in the following output:\n",
    "    \n",
    "![title](original_final_watermarked.jpg)"
   ]
  },
  {
   "cell_type": "markdown",
   "metadata": {},
   "source": [
    "A few evenings play with Pillow increased my knowledge of how to manipulate images in Python with ease. However, my wife opted to use a $1.69 app on her phone to apply a watermark wherever on a photo she might have just taken. It suits her workflow, and I don't have to support it :) But she did later say she wanted a website... \"I can do that in Python using Flask!\", I said. \n",
    "\n",
    "Keep Calm and Code in Python! Thanks to Bob Belderbos for the inspiration to write this up. "
   ]
  },
  {
   "cell_type": "code",
   "execution_count": null,
   "metadata": {},
   "outputs": [],
   "source": []
  }
 ],
 "metadata": {
  "kernelspec": {
   "display_name": "venv",
   "language": "python",
   "name": "venv"
  },
  "language_info": {
   "codemirror_mode": {
    "name": "ipython",
    "version": 3
   },
   "file_extension": ".py",
   "mimetype": "text/x-python",
   "name": "python",
   "nbconvert_exporter": "python",
   "pygments_lexer": "ipython3",
   "version": "3.6.5"
  }
 },
 "nbformat": 4,
 "nbformat_minor": 2
}
